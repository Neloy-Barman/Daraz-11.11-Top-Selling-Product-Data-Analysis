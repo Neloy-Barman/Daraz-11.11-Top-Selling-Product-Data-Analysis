{
  "nbformat": 4,
  "nbformat_minor": 0,
  "metadata": {
    "colab": {
      "provenance": []
    },
    "kernelspec": {
      "name": "python3",
      "display_name": "Python 3"
    },
    "language_info": {
      "name": "python"
    }
  },
  "cells": [
    {
      "cell_type": "markdown",
      "source": [
        "# **Necessary Imports**"
      ],
      "metadata": {
        "id": "AeCL62x85i0e"
      }
    },
    {
      "cell_type": "code",
      "execution_count": 1,
      "metadata": {
        "id": "GL3xtm_Z5Gq8"
      },
      "outputs": [],
      "source": [
        "import os\n",
        "import math\n",
        "import numpy as np\n",
        "import pandas as pd\n",
        "import seaborn as sns\n",
        "import matplotlib.pyplot as plt\n",
        "%matplotlib inline"
      ]
    },
    {
      "cell_type": "markdown",
      "source": [
        "# **Mounting Drive**"
      ],
      "metadata": {
        "id": "oGxo6VuV59Yk"
      }
    },
    {
      "cell_type": "code",
      "source": [
        "from google.colab import drive\n",
        "drive.mount('/gdrive')"
      ],
      "metadata": {
        "colab": {
          "base_uri": "https://localhost:8080/"
        },
        "id": "PbLhMi6B5nMV",
        "outputId": "92cb15da-7e75-4e3c-ecb0-a7f143af4446"
      },
      "execution_count": 2,
      "outputs": [
        {
          "output_type": "stream",
          "name": "stdout",
          "text": [
            "Mounted at /gdrive\n"
          ]
        }
      ]
    },
    {
      "cell_type": "markdown",
      "source": [
        "# **Fetching CSV Files**"
      ],
      "metadata": {
        "id": "corXWJh795Ta"
      }
    },
    {
      "cell_type": "code",
      "source": [
        "base_path = \"/gdrive/MyDrive/Daraz 11.11 Top Sale Data Analysis/\""
      ],
      "metadata": {
        "id": "xrel3J618Jhr"
      },
      "execution_count": 3,
      "outputs": []
    },
    {
      "cell_type": "code",
      "source": [
        "csv_files = os.listdir(base_path+'Product Data')\n",
        "print(f\"Aavailable Files: {csv_files}\")"
      ],
      "metadata": {
        "colab": {
          "base_uri": "https://localhost:8080/"
        },
        "id": "x6S4mYFf5nPc",
        "outputId": "9290fa7e-04f8-4605-ced0-1134e45df8d7"
      },
      "execution_count": 4,
      "outputs": [
        {
          "output_type": "stream",
          "name": "stdout",
          "text": [
            "Aavailable Files: ['watches_bags_jewellery.csv', 'automotive_&_motorbike.csv', 'electronic_accessories.csv', 'electronic_devices.csv', 'health_&_beauty.csv', 'tv_&_home_appliances.csv', 'men_&_boys_fashion.csv', 'groceries.csv', 'sports_&_fitness.csv', 'home_&_lifestyle.csv', 'mother_&_baby.csv']\n"
          ]
        }
      ]
    },
    {
      "cell_type": "markdown",
      "source": [
        "# **Preparing the Product Data Frame**"
      ],
      "metadata": {
        "id": "Y3CZR4w6-e-S"
      }
    },
    {
      "cell_type": "code",
      "source": [
        "data_frame = pd.DataFrame()"
      ],
      "metadata": {
        "id": "P0z7mYWU-nWr"
      },
      "execution_count": 5,
      "outputs": []
    },
    {
      "cell_type": "code",
      "source": [
        "for file in csv_files:\n",
        "  file_path = f\"{base_path}Product Data/{file}\"\n",
        "  df = pd.read_csv(f\"{file_path}\")\n",
        "  data_frame = pd.concat([data_frame, df], ignore_index=True)"
      ],
      "metadata": {
        "id": "UKyWpnyU5nSc"
      },
      "execution_count": 6,
      "outputs": []
    },
    {
      "cell_type": "markdown",
      "source": [
        "# **Viewing the DataFrame**"
      ],
      "metadata": {
        "id": "yrRlQfAWAmVZ"
      }
    },
    {
      "cell_type": "code",
      "source": [
        "data_frame.head()"
      ],
      "metadata": {
        "colab": {
          "base_uri": "https://localhost:8080/",
          "height": 328
        },
        "id": "fJY4gjJf5nVk",
        "outputId": "aa523c15-1881-4d0d-c13d-4f86c01b2f43"
      },
      "execution_count": 7,
      "outputs": [
        {
          "output_type": "execute_result",
          "data": {
            "text/plain": [
              "                   Category                            SubCategory  \\\n",
              "0  Watches, Bags, Jewellery  https://www.daraz.com.bd/school-bags/   \n",
              "1  Watches, Bags, Jewellery  https://www.daraz.com.bd/school-bags/   \n",
              "2  Watches, Bags, Jewellery  https://www.daraz.com.bd/school-bags/   \n",
              "3  Watches, Bags, Jewellery  https://www.daraz.com.bd/school-bags/   \n",
              "4  Watches, Bags, Jewellery  https://www.daraz.com.bd/school-bags/   \n",
              "\n",
              "                                               Title  Original Price  \\\n",
              "0  Animal Prints Cotton Canvas Children Bags Back...             550   \n",
              "1  School Bags For Girls Big Capacity Backpack Sh...            1650   \n",
              "2  Nylon Animal Children Backpacks Kids Preschool...             350   \n",
              "3  Backpacks for kids in kindergarten Cute baby b...            1200   \n",
              "4  kids bag toddler backpack with leash messenger...             350   \n",
              "\n",
              "   Discount Price  Discount             Seller Name  Number of Ratings  \\\n",
              "0             255      54.0           Twenty Twenty                342   \n",
              "1             725      56.0           AYSHA TRADERS                 31   \n",
              "2             195      44.0  Shah Wholesale Fashion                 13   \n",
              "3             749      38.0            Ghoredokanbd                 23   \n",
              "4             286      18.0       Darun Online Shop                  3   \n",
              "\n",
              "   Positive Seller Ratings  Ship On Time  Chat Response Rate  \\\n",
              "0                       85             0                  98   \n",
              "1                       86             0                  93   \n",
              "2                       77             0                  57   \n",
              "3                       93             0                 100   \n",
              "4                       90             0                 100   \n",
              "\n",
              "       Delivery Type            Cash On Delivery Flagship Store  \n",
              "0  Standard Delivery  Cash on Delivery Available             No  \n",
              "1      Free Delivery  Cash on Delivery Available             No  \n",
              "2      Free Delivery  Cash on Delivery Available             No  \n",
              "3  Standard Delivery  Cash on Delivery Available             No  \n",
              "4      Free Delivery  Cash on Delivery Available             No  "
            ],
            "text/html": [
              "\n",
              "  <div id=\"df-b9530c0a-571a-4bf1-a3ad-a7eda4281b5d\" class=\"colab-df-container\">\n",
              "    <div>\n",
              "<style scoped>\n",
              "    .dataframe tbody tr th:only-of-type {\n",
              "        vertical-align: middle;\n",
              "    }\n",
              "\n",
              "    .dataframe tbody tr th {\n",
              "        vertical-align: top;\n",
              "    }\n",
              "\n",
              "    .dataframe thead th {\n",
              "        text-align: right;\n",
              "    }\n",
              "</style>\n",
              "<table border=\"1\" class=\"dataframe\">\n",
              "  <thead>\n",
              "    <tr style=\"text-align: right;\">\n",
              "      <th></th>\n",
              "      <th>Category</th>\n",
              "      <th>SubCategory</th>\n",
              "      <th>Title</th>\n",
              "      <th>Original Price</th>\n",
              "      <th>Discount Price</th>\n",
              "      <th>Discount</th>\n",
              "      <th>Seller Name</th>\n",
              "      <th>Number of Ratings</th>\n",
              "      <th>Positive Seller Ratings</th>\n",
              "      <th>Ship On Time</th>\n",
              "      <th>Chat Response Rate</th>\n",
              "      <th>Delivery Type</th>\n",
              "      <th>Cash On Delivery</th>\n",
              "      <th>Flagship Store</th>\n",
              "    </tr>\n",
              "  </thead>\n",
              "  <tbody>\n",
              "    <tr>\n",
              "      <th>0</th>\n",
              "      <td>Watches, Bags, Jewellery</td>\n",
              "      <td>https://www.daraz.com.bd/school-bags/</td>\n",
              "      <td>Animal Prints Cotton Canvas Children Bags Back...</td>\n",
              "      <td>550</td>\n",
              "      <td>255</td>\n",
              "      <td>54.0</td>\n",
              "      <td>Twenty Twenty</td>\n",
              "      <td>342</td>\n",
              "      <td>85</td>\n",
              "      <td>0</td>\n",
              "      <td>98</td>\n",
              "      <td>Standard Delivery</td>\n",
              "      <td>Cash on Delivery Available</td>\n",
              "      <td>No</td>\n",
              "    </tr>\n",
              "    <tr>\n",
              "      <th>1</th>\n",
              "      <td>Watches, Bags, Jewellery</td>\n",
              "      <td>https://www.daraz.com.bd/school-bags/</td>\n",
              "      <td>School Bags For Girls Big Capacity Backpack Sh...</td>\n",
              "      <td>1650</td>\n",
              "      <td>725</td>\n",
              "      <td>56.0</td>\n",
              "      <td>AYSHA TRADERS</td>\n",
              "      <td>31</td>\n",
              "      <td>86</td>\n",
              "      <td>0</td>\n",
              "      <td>93</td>\n",
              "      <td>Free Delivery</td>\n",
              "      <td>Cash on Delivery Available</td>\n",
              "      <td>No</td>\n",
              "    </tr>\n",
              "    <tr>\n",
              "      <th>2</th>\n",
              "      <td>Watches, Bags, Jewellery</td>\n",
              "      <td>https://www.daraz.com.bd/school-bags/</td>\n",
              "      <td>Nylon Animal Children Backpacks Kids Preschool...</td>\n",
              "      <td>350</td>\n",
              "      <td>195</td>\n",
              "      <td>44.0</td>\n",
              "      <td>Shah Wholesale Fashion</td>\n",
              "      <td>13</td>\n",
              "      <td>77</td>\n",
              "      <td>0</td>\n",
              "      <td>57</td>\n",
              "      <td>Free Delivery</td>\n",
              "      <td>Cash on Delivery Available</td>\n",
              "      <td>No</td>\n",
              "    </tr>\n",
              "    <tr>\n",
              "      <th>3</th>\n",
              "      <td>Watches, Bags, Jewellery</td>\n",
              "      <td>https://www.daraz.com.bd/school-bags/</td>\n",
              "      <td>Backpacks for kids in kindergarten Cute baby b...</td>\n",
              "      <td>1200</td>\n",
              "      <td>749</td>\n",
              "      <td>38.0</td>\n",
              "      <td>Ghoredokanbd</td>\n",
              "      <td>23</td>\n",
              "      <td>93</td>\n",
              "      <td>0</td>\n",
              "      <td>100</td>\n",
              "      <td>Standard Delivery</td>\n",
              "      <td>Cash on Delivery Available</td>\n",
              "      <td>No</td>\n",
              "    </tr>\n",
              "    <tr>\n",
              "      <th>4</th>\n",
              "      <td>Watches, Bags, Jewellery</td>\n",
              "      <td>https://www.daraz.com.bd/school-bags/</td>\n",
              "      <td>kids bag toddler backpack with leash messenger...</td>\n",
              "      <td>350</td>\n",
              "      <td>286</td>\n",
              "      <td>18.0</td>\n",
              "      <td>Darun Online Shop</td>\n",
              "      <td>3</td>\n",
              "      <td>90</td>\n",
              "      <td>0</td>\n",
              "      <td>100</td>\n",
              "      <td>Free Delivery</td>\n",
              "      <td>Cash on Delivery Available</td>\n",
              "      <td>No</td>\n",
              "    </tr>\n",
              "  </tbody>\n",
              "</table>\n",
              "</div>\n",
              "    <div class=\"colab-df-buttons\">\n",
              "\n",
              "  <div class=\"colab-df-container\">\n",
              "    <button class=\"colab-df-convert\" onclick=\"convertToInteractive('df-b9530c0a-571a-4bf1-a3ad-a7eda4281b5d')\"\n",
              "            title=\"Convert this dataframe to an interactive table.\"\n",
              "            style=\"display:none;\">\n",
              "\n",
              "  <svg xmlns=\"http://www.w3.org/2000/svg\" height=\"24px\" viewBox=\"0 -960 960 960\">\n",
              "    <path d=\"M120-120v-720h720v720H120Zm60-500h600v-160H180v160Zm220 220h160v-160H400v160Zm0 220h160v-160H400v160ZM180-400h160v-160H180v160Zm440 0h160v-160H620v160ZM180-180h160v-160H180v160Zm440 0h160v-160H620v160Z\"/>\n",
              "  </svg>\n",
              "    </button>\n",
              "\n",
              "  <style>\n",
              "    .colab-df-container {\n",
              "      display:flex;\n",
              "      gap: 12px;\n",
              "    }\n",
              "\n",
              "    .colab-df-convert {\n",
              "      background-color: #E8F0FE;\n",
              "      border: none;\n",
              "      border-radius: 50%;\n",
              "      cursor: pointer;\n",
              "      display: none;\n",
              "      fill: #1967D2;\n",
              "      height: 32px;\n",
              "      padding: 0 0 0 0;\n",
              "      width: 32px;\n",
              "    }\n",
              "\n",
              "    .colab-df-convert:hover {\n",
              "      background-color: #E2EBFA;\n",
              "      box-shadow: 0px 1px 2px rgba(60, 64, 67, 0.3), 0px 1px 3px 1px rgba(60, 64, 67, 0.15);\n",
              "      fill: #174EA6;\n",
              "    }\n",
              "\n",
              "    .colab-df-buttons div {\n",
              "      margin-bottom: 4px;\n",
              "    }\n",
              "\n",
              "    [theme=dark] .colab-df-convert {\n",
              "      background-color: #3B4455;\n",
              "      fill: #D2E3FC;\n",
              "    }\n",
              "\n",
              "    [theme=dark] .colab-df-convert:hover {\n",
              "      background-color: #434B5C;\n",
              "      box-shadow: 0px 1px 3px 1px rgba(0, 0, 0, 0.15);\n",
              "      filter: drop-shadow(0px 1px 2px rgba(0, 0, 0, 0.3));\n",
              "      fill: #FFFFFF;\n",
              "    }\n",
              "  </style>\n",
              "\n",
              "    <script>\n",
              "      const buttonEl =\n",
              "        document.querySelector('#df-b9530c0a-571a-4bf1-a3ad-a7eda4281b5d button.colab-df-convert');\n",
              "      buttonEl.style.display =\n",
              "        google.colab.kernel.accessAllowed ? 'block' : 'none';\n",
              "\n",
              "      async function convertToInteractive(key) {\n",
              "        const element = document.querySelector('#df-b9530c0a-571a-4bf1-a3ad-a7eda4281b5d');\n",
              "        const dataTable =\n",
              "          await google.colab.kernel.invokeFunction('convertToInteractive',\n",
              "                                                    [key], {});\n",
              "        if (!dataTable) return;\n",
              "\n",
              "        const docLinkHtml = 'Like what you see? Visit the ' +\n",
              "          '<a target=\"_blank\" href=https://colab.research.google.com/notebooks/data_table.ipynb>data table notebook</a>'\n",
              "          + ' to learn more about interactive tables.';\n",
              "        element.innerHTML = '';\n",
              "        dataTable['output_type'] = 'display_data';\n",
              "        await google.colab.output.renderOutput(dataTable, element);\n",
              "        const docLink = document.createElement('div');\n",
              "        docLink.innerHTML = docLinkHtml;\n",
              "        element.appendChild(docLink);\n",
              "      }\n",
              "    </script>\n",
              "  </div>\n",
              "\n",
              "\n",
              "<div id=\"df-c25b3fea-e558-4c32-8391-fddd46ab3c63\">\n",
              "  <button class=\"colab-df-quickchart\" onclick=\"quickchart('df-c25b3fea-e558-4c32-8391-fddd46ab3c63')\"\n",
              "            title=\"Suggest charts\"\n",
              "            style=\"display:none;\">\n",
              "\n",
              "<svg xmlns=\"http://www.w3.org/2000/svg\" height=\"24px\"viewBox=\"0 0 24 24\"\n",
              "     width=\"24px\">\n",
              "    <g>\n",
              "        <path d=\"M19 3H5c-1.1 0-2 .9-2 2v14c0 1.1.9 2 2 2h14c1.1 0 2-.9 2-2V5c0-1.1-.9-2-2-2zM9 17H7v-7h2v7zm4 0h-2V7h2v10zm4 0h-2v-4h2v4z\"/>\n",
              "    </g>\n",
              "</svg>\n",
              "  </button>\n",
              "\n",
              "<style>\n",
              "  .colab-df-quickchart {\n",
              "      --bg-color: #E8F0FE;\n",
              "      --fill-color: #1967D2;\n",
              "      --hover-bg-color: #E2EBFA;\n",
              "      --hover-fill-color: #174EA6;\n",
              "      --disabled-fill-color: #AAA;\n",
              "      --disabled-bg-color: #DDD;\n",
              "  }\n",
              "\n",
              "  [theme=dark] .colab-df-quickchart {\n",
              "      --bg-color: #3B4455;\n",
              "      --fill-color: #D2E3FC;\n",
              "      --hover-bg-color: #434B5C;\n",
              "      --hover-fill-color: #FFFFFF;\n",
              "      --disabled-bg-color: #3B4455;\n",
              "      --disabled-fill-color: #666;\n",
              "  }\n",
              "\n",
              "  .colab-df-quickchart {\n",
              "    background-color: var(--bg-color);\n",
              "    border: none;\n",
              "    border-radius: 50%;\n",
              "    cursor: pointer;\n",
              "    display: none;\n",
              "    fill: var(--fill-color);\n",
              "    height: 32px;\n",
              "    padding: 0;\n",
              "    width: 32px;\n",
              "  }\n",
              "\n",
              "  .colab-df-quickchart:hover {\n",
              "    background-color: var(--hover-bg-color);\n",
              "    box-shadow: 0 1px 2px rgba(60, 64, 67, 0.3), 0 1px 3px 1px rgba(60, 64, 67, 0.15);\n",
              "    fill: var(--button-hover-fill-color);\n",
              "  }\n",
              "\n",
              "  .colab-df-quickchart-complete:disabled,\n",
              "  .colab-df-quickchart-complete:disabled:hover {\n",
              "    background-color: var(--disabled-bg-color);\n",
              "    fill: var(--disabled-fill-color);\n",
              "    box-shadow: none;\n",
              "  }\n",
              "\n",
              "  .colab-df-spinner {\n",
              "    border: 2px solid var(--fill-color);\n",
              "    border-color: transparent;\n",
              "    border-bottom-color: var(--fill-color);\n",
              "    animation:\n",
              "      spin 1s steps(1) infinite;\n",
              "  }\n",
              "\n",
              "  @keyframes spin {\n",
              "    0% {\n",
              "      border-color: transparent;\n",
              "      border-bottom-color: var(--fill-color);\n",
              "      border-left-color: var(--fill-color);\n",
              "    }\n",
              "    20% {\n",
              "      border-color: transparent;\n",
              "      border-left-color: var(--fill-color);\n",
              "      border-top-color: var(--fill-color);\n",
              "    }\n",
              "    30% {\n",
              "      border-color: transparent;\n",
              "      border-left-color: var(--fill-color);\n",
              "      border-top-color: var(--fill-color);\n",
              "      border-right-color: var(--fill-color);\n",
              "    }\n",
              "    40% {\n",
              "      border-color: transparent;\n",
              "      border-right-color: var(--fill-color);\n",
              "      border-top-color: var(--fill-color);\n",
              "    }\n",
              "    60% {\n",
              "      border-color: transparent;\n",
              "      border-right-color: var(--fill-color);\n",
              "    }\n",
              "    80% {\n",
              "      border-color: transparent;\n",
              "      border-right-color: var(--fill-color);\n",
              "      border-bottom-color: var(--fill-color);\n",
              "    }\n",
              "    90% {\n",
              "      border-color: transparent;\n",
              "      border-bottom-color: var(--fill-color);\n",
              "    }\n",
              "  }\n",
              "</style>\n",
              "\n",
              "  <script>\n",
              "    async function quickchart(key) {\n",
              "      const quickchartButtonEl =\n",
              "        document.querySelector('#' + key + ' button');\n",
              "      quickchartButtonEl.disabled = true;  // To prevent multiple clicks.\n",
              "      quickchartButtonEl.classList.add('colab-df-spinner');\n",
              "      try {\n",
              "        const charts = await google.colab.kernel.invokeFunction(\n",
              "            'suggestCharts', [key], {});\n",
              "      } catch (error) {\n",
              "        console.error('Error during call to suggestCharts:', error);\n",
              "      }\n",
              "      quickchartButtonEl.classList.remove('colab-df-spinner');\n",
              "      quickchartButtonEl.classList.add('colab-df-quickchart-complete');\n",
              "    }\n",
              "    (() => {\n",
              "      let quickchartButtonEl =\n",
              "        document.querySelector('#df-c25b3fea-e558-4c32-8391-fddd46ab3c63 button');\n",
              "      quickchartButtonEl.style.display =\n",
              "        google.colab.kernel.accessAllowed ? 'block' : 'none';\n",
              "    })();\n",
              "  </script>\n",
              "</div>\n",
              "    </div>\n",
              "  </div>\n"
            ]
          },
          "metadata": {},
          "execution_count": 7
        }
      ]
    },
    {
      "cell_type": "markdown",
      "source": [
        "# **Viewing DataFrame Shape**"
      ],
      "metadata": {
        "id": "jUz2De3nA1LJ"
      }
    },
    {
      "cell_type": "code",
      "source": [
        "print(f\"Number of Columns: {data_frame.shape[0]}\")\n",
        "print(f\"Number of Rows: {data_frame.shape[1]}\")"
      ],
      "metadata": {
        "colab": {
          "base_uri": "https://localhost:8080/"
        },
        "id": "lhbH6K-X5nYs",
        "outputId": "040a7037-6904-4ef0-c2b0-03c3448764a1"
      },
      "execution_count": 8,
      "outputs": [
        {
          "output_type": "stream",
          "name": "stdout",
          "text": [
            "Number of Columns: 12907\n",
            "Number of Rows: 14\n"
          ]
        }
      ]
    },
    {
      "cell_type": "markdown",
      "source": [
        "# **Hello**"
      ],
      "metadata": {
        "id": "ZLuCdzwjImRp"
      }
    },
    {
      "cell_type": "markdown",
      "source": [
        "## **Checking the Columns**"
      ],
      "metadata": {
        "id": "GNkoQtggBwtR"
      }
    },
    {
      "cell_type": "code",
      "source": [
        "columns = list(data_frame.columns)\n",
        "print(f\"Available Columns: {columns}\")"
      ],
      "metadata": {
        "colab": {
          "base_uri": "https://localhost:8080/"
        },
        "id": "pL8Qn4yyBz1A",
        "outputId": "0b08873e-3aa9-4a27-e8fa-bc888925d81b"
      },
      "execution_count": 9,
      "outputs": [
        {
          "output_type": "stream",
          "name": "stdout",
          "text": [
            "Available Columns: ['Category', 'SubCategory', 'Title', 'Original Price', 'Discount Price', 'Discount', 'Seller Name', 'Number of Ratings', 'Positive Seller Ratings', 'Ship On Time', 'Chat Response Rate', 'Delivery Type', 'Cash On Delivery', 'Flagship Store']\n"
          ]
        }
      ]
    },
    {
      "cell_type": "markdown",
      "source": [
        "## **Changing column value from Link to Name**"
      ],
      "metadata": {
        "id": "mZQiZDIgQCMo"
      }
    },
    {
      "cell_type": "markdown",
      "source": [
        "### **A DataFrame containing the Sub-Category Link and related Name**"
      ],
      "metadata": {
        "id": "T1yiFgnXQnPv"
      }
    },
    {
      "cell_type": "code",
      "source": [
        "sub_categories = pd.read_csv(f\"{base_path}subcategories.csv\")"
      ],
      "metadata": {
        "id": "doTNODx0QL1f"
      },
      "execution_count": 10,
      "outputs": []
    },
    {
      "cell_type": "markdown",
      "source": [
        "### **Viewing Sub-Category**"
      ],
      "metadata": {
        "id": "e-Ej-px0Q15Q"
      }
    },
    {
      "cell_type": "code",
      "source": [
        "sub_categories.head()"
      ],
      "metadata": {
        "colab": {
          "base_uri": "https://localhost:8080/",
          "height": 206
        },
        "id": "Jaht_rHSQQwI",
        "outputId": "bcaadac1-2ff2-4f5e-99f9-c0410480b4c4"
      },
      "execution_count": 11,
      "outputs": [
        {
          "output_type": "execute_result",
          "data": {
            "text/plain": [
              "                   Category          SubCategory Name  \\\n",
              "0  Women's & Girls' Fashion      Traditional Clothing   \n",
              "1  Women's & Girls' Fashion               Muslim Wear   \n",
              "2  Women's & Girls' Fashion                  Clothing   \n",
              "3  Women's & Girls' Fashion  Lingerie, Sleep & Lounge   \n",
              "4  Women's & Girls' Fashion                     Shoes   \n",
              "\n",
              "                                    SubCategory Link  \n",
              "0  https://www.daraz.com.bd/womens-traditional-cl...  \n",
              "1  https://www.daraz.com.bd/womens-abayas-and-hij...  \n",
              "2  https://www.daraz.com.bd/womens-clothing/?serv...  \n",
              "3  https://www.daraz.com.bd/womens-lingerie-sleep...  \n",
              "4  https://www.daraz.com.bd/womens-shoes/?price=5...  "
            ],
            "text/html": [
              "\n",
              "  <div id=\"df-59a50593-e560-4db1-94b9-1a1ae9254be5\" class=\"colab-df-container\">\n",
              "    <div>\n",
              "<style scoped>\n",
              "    .dataframe tbody tr th:only-of-type {\n",
              "        vertical-align: middle;\n",
              "    }\n",
              "\n",
              "    .dataframe tbody tr th {\n",
              "        vertical-align: top;\n",
              "    }\n",
              "\n",
              "    .dataframe thead th {\n",
              "        text-align: right;\n",
              "    }\n",
              "</style>\n",
              "<table border=\"1\" class=\"dataframe\">\n",
              "  <thead>\n",
              "    <tr style=\"text-align: right;\">\n",
              "      <th></th>\n",
              "      <th>Category</th>\n",
              "      <th>SubCategory Name</th>\n",
              "      <th>SubCategory Link</th>\n",
              "    </tr>\n",
              "  </thead>\n",
              "  <tbody>\n",
              "    <tr>\n",
              "      <th>0</th>\n",
              "      <td>Women's &amp; Girls' Fashion</td>\n",
              "      <td>Traditional Clothing</td>\n",
              "      <td>https://www.daraz.com.bd/womens-traditional-cl...</td>\n",
              "    </tr>\n",
              "    <tr>\n",
              "      <th>1</th>\n",
              "      <td>Women's &amp; Girls' Fashion</td>\n",
              "      <td>Muslim Wear</td>\n",
              "      <td>https://www.daraz.com.bd/womens-abayas-and-hij...</td>\n",
              "    </tr>\n",
              "    <tr>\n",
              "      <th>2</th>\n",
              "      <td>Women's &amp; Girls' Fashion</td>\n",
              "      <td>Clothing</td>\n",
              "      <td>https://www.daraz.com.bd/womens-clothing/?serv...</td>\n",
              "    </tr>\n",
              "    <tr>\n",
              "      <th>3</th>\n",
              "      <td>Women's &amp; Girls' Fashion</td>\n",
              "      <td>Lingerie, Sleep &amp; Lounge</td>\n",
              "      <td>https://www.daraz.com.bd/womens-lingerie-sleep...</td>\n",
              "    </tr>\n",
              "    <tr>\n",
              "      <th>4</th>\n",
              "      <td>Women's &amp; Girls' Fashion</td>\n",
              "      <td>Shoes</td>\n",
              "      <td>https://www.daraz.com.bd/womens-shoes/?price=5...</td>\n",
              "    </tr>\n",
              "  </tbody>\n",
              "</table>\n",
              "</div>\n",
              "    <div class=\"colab-df-buttons\">\n",
              "\n",
              "  <div class=\"colab-df-container\">\n",
              "    <button class=\"colab-df-convert\" onclick=\"convertToInteractive('df-59a50593-e560-4db1-94b9-1a1ae9254be5')\"\n",
              "            title=\"Convert this dataframe to an interactive table.\"\n",
              "            style=\"display:none;\">\n",
              "\n",
              "  <svg xmlns=\"http://www.w3.org/2000/svg\" height=\"24px\" viewBox=\"0 -960 960 960\">\n",
              "    <path d=\"M120-120v-720h720v720H120Zm60-500h600v-160H180v160Zm220 220h160v-160H400v160Zm0 220h160v-160H400v160ZM180-400h160v-160H180v160Zm440 0h160v-160H620v160ZM180-180h160v-160H180v160Zm440 0h160v-160H620v160Z\"/>\n",
              "  </svg>\n",
              "    </button>\n",
              "\n",
              "  <style>\n",
              "    .colab-df-container {\n",
              "      display:flex;\n",
              "      gap: 12px;\n",
              "    }\n",
              "\n",
              "    .colab-df-convert {\n",
              "      background-color: #E8F0FE;\n",
              "      border: none;\n",
              "      border-radius: 50%;\n",
              "      cursor: pointer;\n",
              "      display: none;\n",
              "      fill: #1967D2;\n",
              "      height: 32px;\n",
              "      padding: 0 0 0 0;\n",
              "      width: 32px;\n",
              "    }\n",
              "\n",
              "    .colab-df-convert:hover {\n",
              "      background-color: #E2EBFA;\n",
              "      box-shadow: 0px 1px 2px rgba(60, 64, 67, 0.3), 0px 1px 3px 1px rgba(60, 64, 67, 0.15);\n",
              "      fill: #174EA6;\n",
              "    }\n",
              "\n",
              "    .colab-df-buttons div {\n",
              "      margin-bottom: 4px;\n",
              "    }\n",
              "\n",
              "    [theme=dark] .colab-df-convert {\n",
              "      background-color: #3B4455;\n",
              "      fill: #D2E3FC;\n",
              "    }\n",
              "\n",
              "    [theme=dark] .colab-df-convert:hover {\n",
              "      background-color: #434B5C;\n",
              "      box-shadow: 0px 1px 3px 1px rgba(0, 0, 0, 0.15);\n",
              "      filter: drop-shadow(0px 1px 2px rgba(0, 0, 0, 0.3));\n",
              "      fill: #FFFFFF;\n",
              "    }\n",
              "  </style>\n",
              "\n",
              "    <script>\n",
              "      const buttonEl =\n",
              "        document.querySelector('#df-59a50593-e560-4db1-94b9-1a1ae9254be5 button.colab-df-convert');\n",
              "      buttonEl.style.display =\n",
              "        google.colab.kernel.accessAllowed ? 'block' : 'none';\n",
              "\n",
              "      async function convertToInteractive(key) {\n",
              "        const element = document.querySelector('#df-59a50593-e560-4db1-94b9-1a1ae9254be5');\n",
              "        const dataTable =\n",
              "          await google.colab.kernel.invokeFunction('convertToInteractive',\n",
              "                                                    [key], {});\n",
              "        if (!dataTable) return;\n",
              "\n",
              "        const docLinkHtml = 'Like what you see? Visit the ' +\n",
              "          '<a target=\"_blank\" href=https://colab.research.google.com/notebooks/data_table.ipynb>data table notebook</a>'\n",
              "          + ' to learn more about interactive tables.';\n",
              "        element.innerHTML = '';\n",
              "        dataTable['output_type'] = 'display_data';\n",
              "        await google.colab.output.renderOutput(dataTable, element);\n",
              "        const docLink = document.createElement('div');\n",
              "        docLink.innerHTML = docLinkHtml;\n",
              "        element.appendChild(docLink);\n",
              "      }\n",
              "    </script>\n",
              "  </div>\n",
              "\n",
              "\n",
              "<div id=\"df-502f22cd-5a59-4219-9ed7-2964c6d73195\">\n",
              "  <button class=\"colab-df-quickchart\" onclick=\"quickchart('df-502f22cd-5a59-4219-9ed7-2964c6d73195')\"\n",
              "            title=\"Suggest charts\"\n",
              "            style=\"display:none;\">\n",
              "\n",
              "<svg xmlns=\"http://www.w3.org/2000/svg\" height=\"24px\"viewBox=\"0 0 24 24\"\n",
              "     width=\"24px\">\n",
              "    <g>\n",
              "        <path d=\"M19 3H5c-1.1 0-2 .9-2 2v14c0 1.1.9 2 2 2h14c1.1 0 2-.9 2-2V5c0-1.1-.9-2-2-2zM9 17H7v-7h2v7zm4 0h-2V7h2v10zm4 0h-2v-4h2v4z\"/>\n",
              "    </g>\n",
              "</svg>\n",
              "  </button>\n",
              "\n",
              "<style>\n",
              "  .colab-df-quickchart {\n",
              "      --bg-color: #E8F0FE;\n",
              "      --fill-color: #1967D2;\n",
              "      --hover-bg-color: #E2EBFA;\n",
              "      --hover-fill-color: #174EA6;\n",
              "      --disabled-fill-color: #AAA;\n",
              "      --disabled-bg-color: #DDD;\n",
              "  }\n",
              "\n",
              "  [theme=dark] .colab-df-quickchart {\n",
              "      --bg-color: #3B4455;\n",
              "      --fill-color: #D2E3FC;\n",
              "      --hover-bg-color: #434B5C;\n",
              "      --hover-fill-color: #FFFFFF;\n",
              "      --disabled-bg-color: #3B4455;\n",
              "      --disabled-fill-color: #666;\n",
              "  }\n",
              "\n",
              "  .colab-df-quickchart {\n",
              "    background-color: var(--bg-color);\n",
              "    border: none;\n",
              "    border-radius: 50%;\n",
              "    cursor: pointer;\n",
              "    display: none;\n",
              "    fill: var(--fill-color);\n",
              "    height: 32px;\n",
              "    padding: 0;\n",
              "    width: 32px;\n",
              "  }\n",
              "\n",
              "  .colab-df-quickchart:hover {\n",
              "    background-color: var(--hover-bg-color);\n",
              "    box-shadow: 0 1px 2px rgba(60, 64, 67, 0.3), 0 1px 3px 1px rgba(60, 64, 67, 0.15);\n",
              "    fill: var(--button-hover-fill-color);\n",
              "  }\n",
              "\n",
              "  .colab-df-quickchart-complete:disabled,\n",
              "  .colab-df-quickchart-complete:disabled:hover {\n",
              "    background-color: var(--disabled-bg-color);\n",
              "    fill: var(--disabled-fill-color);\n",
              "    box-shadow: none;\n",
              "  }\n",
              "\n",
              "  .colab-df-spinner {\n",
              "    border: 2px solid var(--fill-color);\n",
              "    border-color: transparent;\n",
              "    border-bottom-color: var(--fill-color);\n",
              "    animation:\n",
              "      spin 1s steps(1) infinite;\n",
              "  }\n",
              "\n",
              "  @keyframes spin {\n",
              "    0% {\n",
              "      border-color: transparent;\n",
              "      border-bottom-color: var(--fill-color);\n",
              "      border-left-color: var(--fill-color);\n",
              "    }\n",
              "    20% {\n",
              "      border-color: transparent;\n",
              "      border-left-color: var(--fill-color);\n",
              "      border-top-color: var(--fill-color);\n",
              "    }\n",
              "    30% {\n",
              "      border-color: transparent;\n",
              "      border-left-color: var(--fill-color);\n",
              "      border-top-color: var(--fill-color);\n",
              "      border-right-color: var(--fill-color);\n",
              "    }\n",
              "    40% {\n",
              "      border-color: transparent;\n",
              "      border-right-color: var(--fill-color);\n",
              "      border-top-color: var(--fill-color);\n",
              "    }\n",
              "    60% {\n",
              "      border-color: transparent;\n",
              "      border-right-color: var(--fill-color);\n",
              "    }\n",
              "    80% {\n",
              "      border-color: transparent;\n",
              "      border-right-color: var(--fill-color);\n",
              "      border-bottom-color: var(--fill-color);\n",
              "    }\n",
              "    90% {\n",
              "      border-color: transparent;\n",
              "      border-bottom-color: var(--fill-color);\n",
              "    }\n",
              "  }\n",
              "</style>\n",
              "\n",
              "  <script>\n",
              "    async function quickchart(key) {\n",
              "      const quickchartButtonEl =\n",
              "        document.querySelector('#' + key + ' button');\n",
              "      quickchartButtonEl.disabled = true;  // To prevent multiple clicks.\n",
              "      quickchartButtonEl.classList.add('colab-df-spinner');\n",
              "      try {\n",
              "        const charts = await google.colab.kernel.invokeFunction(\n",
              "            'suggestCharts', [key], {});\n",
              "      } catch (error) {\n",
              "        console.error('Error during call to suggestCharts:', error);\n",
              "      }\n",
              "      quickchartButtonEl.classList.remove('colab-df-spinner');\n",
              "      quickchartButtonEl.classList.add('colab-df-quickchart-complete');\n",
              "    }\n",
              "    (() => {\n",
              "      let quickchartButtonEl =\n",
              "        document.querySelector('#df-502f22cd-5a59-4219-9ed7-2964c6d73195 button');\n",
              "      quickchartButtonEl.style.display =\n",
              "        google.colab.kernel.accessAllowed ? 'block' : 'none';\n",
              "    })();\n",
              "  </script>\n",
              "</div>\n",
              "    </div>\n",
              "  </div>\n"
            ]
          },
          "metadata": {},
          "execution_count": 11
        }
      ]
    },
    {
      "cell_type": "markdown",
      "source": [
        "### **Implementing Change**"
      ],
      "metadata": {
        "id": "1TGz5DTpQ7gA"
      }
    },
    {
      "cell_type": "code",
      "source": [
        "for i in range(len(data_frame)):\n",
        "  changed = 0\n",
        "  j = 0\n",
        "  while j < len(sub_categories) and changed != 1:\n",
        "    if data_frame.iloc[i][\"SubCategory\"] == sub_categories.iloc[j][\"SubCategory Link\"]:\n",
        "      data_frame.at[i,'SubCategory'] = sub_categories.iloc[j][\"SubCategory Name\"]\n",
        "      changed = 1\n",
        "    j += 1"
      ],
      "metadata": {
        "id": "wZcDR6lPQQzH"
      },
      "execution_count": 12,
      "outputs": []
    },
    {
      "cell_type": "markdown",
      "source": [
        "### **Viewing Change**"
      ],
      "metadata": {
        "id": "lK4GQ16dRElY"
      }
    },
    {
      "cell_type": "code",
      "source": [
        "data_frame[\"SubCategory\"]"
      ],
      "metadata": {
        "colab": {
          "base_uri": "https://localhost:8080/"
        },
        "id": "-x1cfjdLQQ13",
        "outputId": "99321e12-fd46-4360-bc91-c978653b2a6b"
      },
      "execution_count": 13,
      "outputs": [
        {
          "output_type": "execute_result",
          "data": {
            "text/plain": [
              "0                Kids Bags\n",
              "1                Kids Bags\n",
              "2                Kids Bags\n",
              "3                Kids Bags\n",
              "4                Kids Bags\n",
              "               ...        \n",
              "12902    Traditional Games\n",
              "12903    Traditional Games\n",
              "12904    Traditional Games\n",
              "12905    Traditional Games\n",
              "12906    Traditional Games\n",
              "Name: SubCategory, Length: 12907, dtype: object"
            ]
          },
          "metadata": {},
          "execution_count": 13
        }
      ]
    },
    {
      "cell_type": "markdown",
      "source": [
        "## **Checking the datatype of the columns**"
      ],
      "metadata": {
        "id": "EPygw4jjCPtR"
      }
    },
    {
      "cell_type": "code",
      "source": [
        "data_frame.dtypes"
      ],
      "metadata": {
        "colab": {
          "base_uri": "https://localhost:8080/"
        },
        "id": "lbageLrsCUDR",
        "outputId": "36cf424c-8abd-4ea6-caa6-0e6df518c43f"
      },
      "execution_count": 14,
      "outputs": [
        {
          "output_type": "execute_result",
          "data": {
            "text/plain": [
              "Category                    object\n",
              "SubCategory                 object\n",
              "Title                       object\n",
              "Original Price               int64\n",
              "Discount Price               int64\n",
              "Discount                   float64\n",
              "Seller Name                 object\n",
              "Number of Ratings            int64\n",
              "Positive Seller Ratings      int64\n",
              "Ship On Time                 int64\n",
              "Chat Response Rate           int64\n",
              "Delivery Type               object\n",
              "Cash On Delivery            object\n",
              "Flagship Store              object\n",
              "dtype: object"
            ]
          },
          "metadata": {},
          "execution_count": 14
        }
      ]
    },
    {
      "cell_type": "markdown",
      "source": [
        "## **Checking NaN values**"
      ],
      "metadata": {
        "id": "TgUSKtDQBHzx"
      }
    },
    {
      "cell_type": "code",
      "source": [
        "data_frame.isna().sum()"
      ],
      "metadata": {
        "colab": {
          "base_uri": "https://localhost:8080/"
        },
        "id": "5neoP5se5ncU",
        "outputId": "41d28aff-b135-4384-e88c-f592e7d49a05"
      },
      "execution_count": 15,
      "outputs": [
        {
          "output_type": "execute_result",
          "data": {
            "text/plain": [
              "Category                   0\n",
              "SubCategory                0\n",
              "Title                      0\n",
              "Original Price             0\n",
              "Discount Price             0\n",
              "Discount                   0\n",
              "Seller Name                0\n",
              "Number of Ratings          0\n",
              "Positive Seller Ratings    0\n",
              "Ship On Time               0\n",
              "Chat Response Rate         0\n",
              "Delivery Type              0\n",
              "Cash On Delivery           0\n",
              "Flagship Store             0\n",
              "dtype: int64"
            ]
          },
          "metadata": {},
          "execution_count": 15
        }
      ]
    },
    {
      "cell_type": "markdown",
      "source": [
        "### **We have not any NaN value in any of the column.**"
      ],
      "metadata": {
        "id": "Wmq35OcoBcwh"
      }
    },
    {
      "cell_type": "markdown",
      "source": [
        "## **Hello**"
      ],
      "metadata": {
        "id": "-2PqnQKu_QPj"
      }
    },
    {
      "cell_type": "markdown",
      "source": [
        "## **Handling redundant symbols from Object type columns**"
      ],
      "metadata": {
        "id": "kyfU5bYBL5o9"
      }
    },
    {
      "cell_type": "code",
      "source": [
        "str_columns = []\n",
        "for column in columns:\n",
        "  if str(data_frame[column].dtype) == 'object':\n",
        "    str_columns.append(column)\n",
        "    for i in range(len(data_frame)):\n",
        "      data_frame.at[i, column] = data_frame.iloc[i][column].strip().replace('\"',\"\")"
      ],
      "metadata": {
        "id": "W90JudIPALYC"
      },
      "execution_count": 16,
      "outputs": []
    },
    {
      "cell_type": "markdown",
      "source": [
        "## **Viewing Change**"
      ],
      "metadata": {
        "id": "jFxBbyfpMFX_"
      }
    },
    {
      "cell_type": "code",
      "source": [
        "data_frame[str_columns]"
      ],
      "metadata": {
        "colab": {
          "base_uri": "https://localhost:8080/",
          "height": 424
        },
        "id": "ONEsACFZLYNF",
        "outputId": "01a0e5e7-4902-416a-c6f0-674db8f8f599"
      },
      "execution_count": 17,
      "outputs": [
        {
          "output_type": "execute_result",
          "data": {
            "text/plain": [
              "                       Category        SubCategory  \\\n",
              "0      Watches, Bags, Jewellery          Kids Bags   \n",
              "1      Watches, Bags, Jewellery          Kids Bags   \n",
              "2      Watches, Bags, Jewellery          Kids Bags   \n",
              "3      Watches, Bags, Jewellery          Kids Bags   \n",
              "4      Watches, Bags, Jewellery          Kids Bags   \n",
              "...                         ...                ...   \n",
              "12902             Mother & Baby  Traditional Games   \n",
              "12903             Mother & Baby  Traditional Games   \n",
              "12904             Mother & Baby  Traditional Games   \n",
              "12905             Mother & Baby  Traditional Games   \n",
              "12906             Mother & Baby  Traditional Games   \n",
              "\n",
              "                                                   Title  \\\n",
              "0      Animal Prints Cotton Canvas Children Bags Back...   \n",
              "1      School Bags For Girls Big Capacity Backpack Sh...   \n",
              "2      Nylon Animal Children Backpacks Kids Preschool...   \n",
              "3      Backpacks for kids in kindergarten Cute baby b...   \n",
              "4      kids bag toddler backpack with leash messenger...   \n",
              "...                                                  ...   \n",
              "12902  Plastic Carom Board (Double-Sided Play) - Enjo...   \n",
              "12903          Ludo & Chess Game Board Toy - Chess Board   \n",
              "12904         board game Ludu Board with chokka and bead   \n",
              "12905  Children's Toy Water Ring Funny Toy With Class...   \n",
              "12906  Avant-garde - GoodsNet 09 Future Musical Stunt...   \n",
              "\n",
              "                  Seller Name      Delivery Type            Cash On Delivery  \\\n",
              "0               Twenty Twenty  Standard Delivery  Cash on Delivery Available   \n",
              "1               AYSHA TRADERS      Free Delivery  Cash on Delivery Available   \n",
              "2      Shah Wholesale Fashion      Free Delivery  Cash on Delivery Available   \n",
              "3                Ghoredokanbd  Standard Delivery  Cash on Delivery Available   \n",
              "4           Darun Online Shop      Free Delivery  Cash on Delivery Available   \n",
              "...                       ...                ...                         ...   \n",
              "12902              WHITEFIELD  Standard Delivery  Cash on Delivery Available   \n",
              "12903    Kids Toys Collection  Standard Delivery  Cash on Delivery Available   \n",
              "12904                Panhatta  Standard Delivery  Cash on Delivery Available   \n",
              "12905             Smile Touch  Standard Delivery  Cash on Delivery Available   \n",
              "12906         Bangla store bd      Free Delivery  Cash on Delivery Available   \n",
              "\n",
              "      Flagship Store  \n",
              "0                 No  \n",
              "1                 No  \n",
              "2                 No  \n",
              "3                 No  \n",
              "4                 No  \n",
              "...              ...  \n",
              "12902             No  \n",
              "12903             No  \n",
              "12904             No  \n",
              "12905             No  \n",
              "12906             No  \n",
              "\n",
              "[12907 rows x 7 columns]"
            ],
            "text/html": [
              "\n",
              "  <div id=\"df-19def4f8-40c7-4f11-b894-8c8beba19569\" class=\"colab-df-container\">\n",
              "    <div>\n",
              "<style scoped>\n",
              "    .dataframe tbody tr th:only-of-type {\n",
              "        vertical-align: middle;\n",
              "    }\n",
              "\n",
              "    .dataframe tbody tr th {\n",
              "        vertical-align: top;\n",
              "    }\n",
              "\n",
              "    .dataframe thead th {\n",
              "        text-align: right;\n",
              "    }\n",
              "</style>\n",
              "<table border=\"1\" class=\"dataframe\">\n",
              "  <thead>\n",
              "    <tr style=\"text-align: right;\">\n",
              "      <th></th>\n",
              "      <th>Category</th>\n",
              "      <th>SubCategory</th>\n",
              "      <th>Title</th>\n",
              "      <th>Seller Name</th>\n",
              "      <th>Delivery Type</th>\n",
              "      <th>Cash On Delivery</th>\n",
              "      <th>Flagship Store</th>\n",
              "    </tr>\n",
              "  </thead>\n",
              "  <tbody>\n",
              "    <tr>\n",
              "      <th>0</th>\n",
              "      <td>Watches, Bags, Jewellery</td>\n",
              "      <td>Kids Bags</td>\n",
              "      <td>Animal Prints Cotton Canvas Children Bags Back...</td>\n",
              "      <td>Twenty Twenty</td>\n",
              "      <td>Standard Delivery</td>\n",
              "      <td>Cash on Delivery Available</td>\n",
              "      <td>No</td>\n",
              "    </tr>\n",
              "    <tr>\n",
              "      <th>1</th>\n",
              "      <td>Watches, Bags, Jewellery</td>\n",
              "      <td>Kids Bags</td>\n",
              "      <td>School Bags For Girls Big Capacity Backpack Sh...</td>\n",
              "      <td>AYSHA TRADERS</td>\n",
              "      <td>Free Delivery</td>\n",
              "      <td>Cash on Delivery Available</td>\n",
              "      <td>No</td>\n",
              "    </tr>\n",
              "    <tr>\n",
              "      <th>2</th>\n",
              "      <td>Watches, Bags, Jewellery</td>\n",
              "      <td>Kids Bags</td>\n",
              "      <td>Nylon Animal Children Backpacks Kids Preschool...</td>\n",
              "      <td>Shah Wholesale Fashion</td>\n",
              "      <td>Free Delivery</td>\n",
              "      <td>Cash on Delivery Available</td>\n",
              "      <td>No</td>\n",
              "    </tr>\n",
              "    <tr>\n",
              "      <th>3</th>\n",
              "      <td>Watches, Bags, Jewellery</td>\n",
              "      <td>Kids Bags</td>\n",
              "      <td>Backpacks for kids in kindergarten Cute baby b...</td>\n",
              "      <td>Ghoredokanbd</td>\n",
              "      <td>Standard Delivery</td>\n",
              "      <td>Cash on Delivery Available</td>\n",
              "      <td>No</td>\n",
              "    </tr>\n",
              "    <tr>\n",
              "      <th>4</th>\n",
              "      <td>Watches, Bags, Jewellery</td>\n",
              "      <td>Kids Bags</td>\n",
              "      <td>kids bag toddler backpack with leash messenger...</td>\n",
              "      <td>Darun Online Shop</td>\n",
              "      <td>Free Delivery</td>\n",
              "      <td>Cash on Delivery Available</td>\n",
              "      <td>No</td>\n",
              "    </tr>\n",
              "    <tr>\n",
              "      <th>...</th>\n",
              "      <td>...</td>\n",
              "      <td>...</td>\n",
              "      <td>...</td>\n",
              "      <td>...</td>\n",
              "      <td>...</td>\n",
              "      <td>...</td>\n",
              "      <td>...</td>\n",
              "    </tr>\n",
              "    <tr>\n",
              "      <th>12902</th>\n",
              "      <td>Mother &amp; Baby</td>\n",
              "      <td>Traditional Games</td>\n",
              "      <td>Plastic Carom Board (Double-Sided Play) - Enjo...</td>\n",
              "      <td>WHITEFIELD</td>\n",
              "      <td>Standard Delivery</td>\n",
              "      <td>Cash on Delivery Available</td>\n",
              "      <td>No</td>\n",
              "    </tr>\n",
              "    <tr>\n",
              "      <th>12903</th>\n",
              "      <td>Mother &amp; Baby</td>\n",
              "      <td>Traditional Games</td>\n",
              "      <td>Ludo &amp; Chess Game Board Toy - Chess Board</td>\n",
              "      <td>Kids Toys Collection</td>\n",
              "      <td>Standard Delivery</td>\n",
              "      <td>Cash on Delivery Available</td>\n",
              "      <td>No</td>\n",
              "    </tr>\n",
              "    <tr>\n",
              "      <th>12904</th>\n",
              "      <td>Mother &amp; Baby</td>\n",
              "      <td>Traditional Games</td>\n",
              "      <td>board game Ludu Board with chokka and bead</td>\n",
              "      <td>Panhatta</td>\n",
              "      <td>Standard Delivery</td>\n",
              "      <td>Cash on Delivery Available</td>\n",
              "      <td>No</td>\n",
              "    </tr>\n",
              "    <tr>\n",
              "      <th>12905</th>\n",
              "      <td>Mother &amp; Baby</td>\n",
              "      <td>Traditional Games</td>\n",
              "      <td>Children's Toy Water Ring Funny Toy With Class...</td>\n",
              "      <td>Smile Touch</td>\n",
              "      <td>Standard Delivery</td>\n",
              "      <td>Cash on Delivery Available</td>\n",
              "      <td>No</td>\n",
              "    </tr>\n",
              "    <tr>\n",
              "      <th>12906</th>\n",
              "      <td>Mother &amp; Baby</td>\n",
              "      <td>Traditional Games</td>\n",
              "      <td>Avant-garde - GoodsNet 09 Future Musical Stunt...</td>\n",
              "      <td>Bangla store bd</td>\n",
              "      <td>Free Delivery</td>\n",
              "      <td>Cash on Delivery Available</td>\n",
              "      <td>No</td>\n",
              "    </tr>\n",
              "  </tbody>\n",
              "</table>\n",
              "<p>12907 rows × 7 columns</p>\n",
              "</div>\n",
              "    <div class=\"colab-df-buttons\">\n",
              "\n",
              "  <div class=\"colab-df-container\">\n",
              "    <button class=\"colab-df-convert\" onclick=\"convertToInteractive('df-19def4f8-40c7-4f11-b894-8c8beba19569')\"\n",
              "            title=\"Convert this dataframe to an interactive table.\"\n",
              "            style=\"display:none;\">\n",
              "\n",
              "  <svg xmlns=\"http://www.w3.org/2000/svg\" height=\"24px\" viewBox=\"0 -960 960 960\">\n",
              "    <path d=\"M120-120v-720h720v720H120Zm60-500h600v-160H180v160Zm220 220h160v-160H400v160Zm0 220h160v-160H400v160ZM180-400h160v-160H180v160Zm440 0h160v-160H620v160ZM180-180h160v-160H180v160Zm440 0h160v-160H620v160Z\"/>\n",
              "  </svg>\n",
              "    </button>\n",
              "\n",
              "  <style>\n",
              "    .colab-df-container {\n",
              "      display:flex;\n",
              "      gap: 12px;\n",
              "    }\n",
              "\n",
              "    .colab-df-convert {\n",
              "      background-color: #E8F0FE;\n",
              "      border: none;\n",
              "      border-radius: 50%;\n",
              "      cursor: pointer;\n",
              "      display: none;\n",
              "      fill: #1967D2;\n",
              "      height: 32px;\n",
              "      padding: 0 0 0 0;\n",
              "      width: 32px;\n",
              "    }\n",
              "\n",
              "    .colab-df-convert:hover {\n",
              "      background-color: #E2EBFA;\n",
              "      box-shadow: 0px 1px 2px rgba(60, 64, 67, 0.3), 0px 1px 3px 1px rgba(60, 64, 67, 0.15);\n",
              "      fill: #174EA6;\n",
              "    }\n",
              "\n",
              "    .colab-df-buttons div {\n",
              "      margin-bottom: 4px;\n",
              "    }\n",
              "\n",
              "    [theme=dark] .colab-df-convert {\n",
              "      background-color: #3B4455;\n",
              "      fill: #D2E3FC;\n",
              "    }\n",
              "\n",
              "    [theme=dark] .colab-df-convert:hover {\n",
              "      background-color: #434B5C;\n",
              "      box-shadow: 0px 1px 3px 1px rgba(0, 0, 0, 0.15);\n",
              "      filter: drop-shadow(0px 1px 2px rgba(0, 0, 0, 0.3));\n",
              "      fill: #FFFFFF;\n",
              "    }\n",
              "  </style>\n",
              "\n",
              "    <script>\n",
              "      const buttonEl =\n",
              "        document.querySelector('#df-19def4f8-40c7-4f11-b894-8c8beba19569 button.colab-df-convert');\n",
              "      buttonEl.style.display =\n",
              "        google.colab.kernel.accessAllowed ? 'block' : 'none';\n",
              "\n",
              "      async function convertToInteractive(key) {\n",
              "        const element = document.querySelector('#df-19def4f8-40c7-4f11-b894-8c8beba19569');\n",
              "        const dataTable =\n",
              "          await google.colab.kernel.invokeFunction('convertToInteractive',\n",
              "                                                    [key], {});\n",
              "        if (!dataTable) return;\n",
              "\n",
              "        const docLinkHtml = 'Like what you see? Visit the ' +\n",
              "          '<a target=\"_blank\" href=https://colab.research.google.com/notebooks/data_table.ipynb>data table notebook</a>'\n",
              "          + ' to learn more about interactive tables.';\n",
              "        element.innerHTML = '';\n",
              "        dataTable['output_type'] = 'display_data';\n",
              "        await google.colab.output.renderOutput(dataTable, element);\n",
              "        const docLink = document.createElement('div');\n",
              "        docLink.innerHTML = docLinkHtml;\n",
              "        element.appendChild(docLink);\n",
              "      }\n",
              "    </script>\n",
              "  </div>\n",
              "\n",
              "\n",
              "<div id=\"df-331fa8c8-273e-43a8-9156-536e870ba133\">\n",
              "  <button class=\"colab-df-quickchart\" onclick=\"quickchart('df-331fa8c8-273e-43a8-9156-536e870ba133')\"\n",
              "            title=\"Suggest charts\"\n",
              "            style=\"display:none;\">\n",
              "\n",
              "<svg xmlns=\"http://www.w3.org/2000/svg\" height=\"24px\"viewBox=\"0 0 24 24\"\n",
              "     width=\"24px\">\n",
              "    <g>\n",
              "        <path d=\"M19 3H5c-1.1 0-2 .9-2 2v14c0 1.1.9 2 2 2h14c1.1 0 2-.9 2-2V5c0-1.1-.9-2-2-2zM9 17H7v-7h2v7zm4 0h-2V7h2v10zm4 0h-2v-4h2v4z\"/>\n",
              "    </g>\n",
              "</svg>\n",
              "  </button>\n",
              "\n",
              "<style>\n",
              "  .colab-df-quickchart {\n",
              "      --bg-color: #E8F0FE;\n",
              "      --fill-color: #1967D2;\n",
              "      --hover-bg-color: #E2EBFA;\n",
              "      --hover-fill-color: #174EA6;\n",
              "      --disabled-fill-color: #AAA;\n",
              "      --disabled-bg-color: #DDD;\n",
              "  }\n",
              "\n",
              "  [theme=dark] .colab-df-quickchart {\n",
              "      --bg-color: #3B4455;\n",
              "      --fill-color: #D2E3FC;\n",
              "      --hover-bg-color: #434B5C;\n",
              "      --hover-fill-color: #FFFFFF;\n",
              "      --disabled-bg-color: #3B4455;\n",
              "      --disabled-fill-color: #666;\n",
              "  }\n",
              "\n",
              "  .colab-df-quickchart {\n",
              "    background-color: var(--bg-color);\n",
              "    border: none;\n",
              "    border-radius: 50%;\n",
              "    cursor: pointer;\n",
              "    display: none;\n",
              "    fill: var(--fill-color);\n",
              "    height: 32px;\n",
              "    padding: 0;\n",
              "    width: 32px;\n",
              "  }\n",
              "\n",
              "  .colab-df-quickchart:hover {\n",
              "    background-color: var(--hover-bg-color);\n",
              "    box-shadow: 0 1px 2px rgba(60, 64, 67, 0.3), 0 1px 3px 1px rgba(60, 64, 67, 0.15);\n",
              "    fill: var(--button-hover-fill-color);\n",
              "  }\n",
              "\n",
              "  .colab-df-quickchart-complete:disabled,\n",
              "  .colab-df-quickchart-complete:disabled:hover {\n",
              "    background-color: var(--disabled-bg-color);\n",
              "    fill: var(--disabled-fill-color);\n",
              "    box-shadow: none;\n",
              "  }\n",
              "\n",
              "  .colab-df-spinner {\n",
              "    border: 2px solid var(--fill-color);\n",
              "    border-color: transparent;\n",
              "    border-bottom-color: var(--fill-color);\n",
              "    animation:\n",
              "      spin 1s steps(1) infinite;\n",
              "  }\n",
              "\n",
              "  @keyframes spin {\n",
              "    0% {\n",
              "      border-color: transparent;\n",
              "      border-bottom-color: var(--fill-color);\n",
              "      border-left-color: var(--fill-color);\n",
              "    }\n",
              "    20% {\n",
              "      border-color: transparent;\n",
              "      border-left-color: var(--fill-color);\n",
              "      border-top-color: var(--fill-color);\n",
              "    }\n",
              "    30% {\n",
              "      border-color: transparent;\n",
              "      border-left-color: var(--fill-color);\n",
              "      border-top-color: var(--fill-color);\n",
              "      border-right-color: var(--fill-color);\n",
              "    }\n",
              "    40% {\n",
              "      border-color: transparent;\n",
              "      border-right-color: var(--fill-color);\n",
              "      border-top-color: var(--fill-color);\n",
              "    }\n",
              "    60% {\n",
              "      border-color: transparent;\n",
              "      border-right-color: var(--fill-color);\n",
              "    }\n",
              "    80% {\n",
              "      border-color: transparent;\n",
              "      border-right-color: var(--fill-color);\n",
              "      border-bottom-color: var(--fill-color);\n",
              "    }\n",
              "    90% {\n",
              "      border-color: transparent;\n",
              "      border-bottom-color: var(--fill-color);\n",
              "    }\n",
              "  }\n",
              "</style>\n",
              "\n",
              "  <script>\n",
              "    async function quickchart(key) {\n",
              "      const quickchartButtonEl =\n",
              "        document.querySelector('#' + key + ' button');\n",
              "      quickchartButtonEl.disabled = true;  // To prevent multiple clicks.\n",
              "      quickchartButtonEl.classList.add('colab-df-spinner');\n",
              "      try {\n",
              "        const charts = await google.colab.kernel.invokeFunction(\n",
              "            'suggestCharts', [key], {});\n",
              "      } catch (error) {\n",
              "        console.error('Error during call to suggestCharts:', error);\n",
              "      }\n",
              "      quickchartButtonEl.classList.remove('colab-df-spinner');\n",
              "      quickchartButtonEl.classList.add('colab-df-quickchart-complete');\n",
              "    }\n",
              "    (() => {\n",
              "      let quickchartButtonEl =\n",
              "        document.querySelector('#df-331fa8c8-273e-43a8-9156-536e870ba133 button');\n",
              "      quickchartButtonEl.style.display =\n",
              "        google.colab.kernel.accessAllowed ? 'block' : 'none';\n",
              "    })();\n",
              "  </script>\n",
              "</div>\n",
              "    </div>\n",
              "  </div>\n"
            ]
          },
          "metadata": {},
          "execution_count": 17
        }
      ]
    },
    {
      "cell_type": "code",
      "source": [
        "data_frame['Category'].nunique()"
      ],
      "metadata": {
        "colab": {
          "base_uri": "https://localhost:8080/"
        },
        "id": "-g6xPCqNMNi-",
        "outputId": "dabb7eff-4341-4707-c7b8-4ae6a6ef63f0"
      },
      "execution_count": 18,
      "outputs": [
        {
          "output_type": "execute_result",
          "data": {
            "text/plain": [
              "10"
            ]
          },
          "metadata": {},
          "execution_count": 18
        }
      ]
    },
    {
      "cell_type": "code",
      "source": [
        "data_frame['Cash On Delivery'].nunique()"
      ],
      "metadata": {
        "colab": {
          "base_uri": "https://localhost:8080/"
        },
        "id": "5EqhjQhYMpUF",
        "outputId": "8a9f37cb-19f5-4264-c12c-a40faa3531ee"
      },
      "execution_count": 19,
      "outputs": [
        {
          "output_type": "execute_result",
          "data": {
            "text/plain": [
              "7"
            ]
          },
          "metadata": {},
          "execution_count": 19
        }
      ]
    },
    {
      "cell_type": "code",
      "source": [
        "data_frame['Delivery Type'].nunique()"
      ],
      "metadata": {
        "colab": {
          "base_uri": "https://localhost:8080/"
        },
        "id": "nb1ps2h7M7n1",
        "outputId": "8992940c-a076-46c6-fbeb-31d14f0737da"
      },
      "execution_count": 20,
      "outputs": [
        {
          "output_type": "execute_result",
          "data": {
            "text/plain": [
              "2"
            ]
          },
          "metadata": {},
          "execution_count": 20
        }
      ]
    },
    {
      "cell_type": "code",
      "source": [
        "data_frame['Delivery Type'].value_counts()"
      ],
      "metadata": {
        "colab": {
          "base_uri": "https://localhost:8080/"
        },
        "id": "LGLD487PM--l",
        "outputId": "e8ea7623-5007-488d-986e-27779f157a7f"
      },
      "execution_count": 21,
      "outputs": [
        {
          "output_type": "execute_result",
          "data": {
            "text/plain": [
              "Free Delivery        8517\n",
              "Standard Delivery    4390\n",
              "Name: Delivery Type, dtype: int64"
            ]
          },
          "metadata": {},
          "execution_count": 21
        }
      ]
    },
    {
      "cell_type": "code",
      "source": [
        "data_frame['Flagship Store'].value_counts()"
      ],
      "metadata": {
        "colab": {
          "base_uri": "https://localhost:8080/"
        },
        "id": "ROyCfcbqNGpF",
        "outputId": "551a08b2-eaf3-417e-b234-8213770d3b75"
      },
      "execution_count": 22,
      "outputs": [
        {
          "output_type": "execute_result",
          "data": {
            "text/plain": [
              "No     10294\n",
              "Yes     2613\n",
              "Name: Flagship Store, dtype: int64"
            ]
          },
          "metadata": {},
          "execution_count": 22
        }
      ]
    },
    {
      "cell_type": "code",
      "source": [
        "data_frame['Flagship Store'].value_counts()"
      ],
      "metadata": {
        "id": "V1pRt7PvNP5l",
        "colab": {
          "base_uri": "https://localhost:8080/"
        },
        "outputId": "2f0282f2-f504-487f-eb04-80ab4d56b7fb"
      },
      "execution_count": 23,
      "outputs": [
        {
          "output_type": "execute_result",
          "data": {
            "text/plain": [
              "No     10294\n",
              "Yes     2613\n",
              "Name: Flagship Store, dtype: int64"
            ]
          },
          "metadata": {},
          "execution_count": 23
        }
      ]
    },
    {
      "cell_type": "code",
      "source": [
        "data_frame['Cash On Delivery'].value_counts()"
      ],
      "metadata": {
        "colab": {
          "base_uri": "https://localhost:8080/"
        },
        "id": "YQJTRV74Mvd9",
        "outputId": "d700003c-21b6-449c-cc04-01377d37736a"
      },
      "execution_count": 24,
      "outputs": [
        {
          "output_type": "execute_result",
          "data": {
            "text/plain": [
              "Cash on Delivery Available           12646\n",
              "100% Authentic from Trusted Brand      178\n",
              "This item is non-returnable             45\n",
              "14 days free & easy return              25\n",
              "Warranty not available                   5\n",
              "7 Days Returns                           5\n",
              "Daraz Verified                           3\n",
              "Name: Cash On Delivery, dtype: int64"
            ]
          },
          "metadata": {},
          "execution_count": 24
        }
      ]
    },
    {
      "cell_type": "code",
      "source": [
        "data_frame.describe()"
      ],
      "metadata": {
        "id": "j3YDbOBO5nuU",
        "colab": {
          "base_uri": "https://localhost:8080/",
          "height": 300
        },
        "outputId": "33eb72b7-53eb-4cbe-fb6e-ca0f934b5a42"
      },
      "execution_count": 25,
      "outputs": [
        {
          "output_type": "execute_result",
          "data": {
            "text/plain": [
              "       Original Price  Discount Price      Discount  Number of Ratings  \\\n",
              "count    12907.000000    12907.000000  12907.000000       12907.000000   \n",
              "mean      5982.283257     4885.541877     34.849423          90.984814   \n",
              "std      20711.321892    18196.608534     21.273665         310.672540   \n",
              "min          5.000000        5.000000      0.000000           0.000000   \n",
              "25%        265.000000      153.000000     17.000000           2.000000   \n",
              "50%        631.000000      356.000000     35.000000          13.000000   \n",
              "75%       1679.500000     1063.000000     51.000000          61.000000   \n",
              "max     479900.000000   479900.000000     98.000000       11914.000000   \n",
              "\n",
              "       Positive Seller Ratings  Ship On Time  Chat Response Rate  \n",
              "count             12907.000000  12907.000000        12907.000000  \n",
              "mean                 79.507632     32.307120           88.999923  \n",
              "std                  22.745849     46.765793           22.066898  \n",
              "min                   0.000000      0.000000            0.000000  \n",
              "25%                  81.000000      0.000000           91.000000  \n",
              "50%                  86.000000      0.000000           97.000000  \n",
              "75%                  89.000000    100.000000          100.000000  \n",
              "max                 100.000000    100.000000          100.000000  "
            ],
            "text/html": [
              "\n",
              "  <div id=\"df-a94ee466-b4e4-42e2-9c72-6dbfbe845a68\" class=\"colab-df-container\">\n",
              "    <div>\n",
              "<style scoped>\n",
              "    .dataframe tbody tr th:only-of-type {\n",
              "        vertical-align: middle;\n",
              "    }\n",
              "\n",
              "    .dataframe tbody tr th {\n",
              "        vertical-align: top;\n",
              "    }\n",
              "\n",
              "    .dataframe thead th {\n",
              "        text-align: right;\n",
              "    }\n",
              "</style>\n",
              "<table border=\"1\" class=\"dataframe\">\n",
              "  <thead>\n",
              "    <tr style=\"text-align: right;\">\n",
              "      <th></th>\n",
              "      <th>Original Price</th>\n",
              "      <th>Discount Price</th>\n",
              "      <th>Discount</th>\n",
              "      <th>Number of Ratings</th>\n",
              "      <th>Positive Seller Ratings</th>\n",
              "      <th>Ship On Time</th>\n",
              "      <th>Chat Response Rate</th>\n",
              "    </tr>\n",
              "  </thead>\n",
              "  <tbody>\n",
              "    <tr>\n",
              "      <th>count</th>\n",
              "      <td>12907.000000</td>\n",
              "      <td>12907.000000</td>\n",
              "      <td>12907.000000</td>\n",
              "      <td>12907.000000</td>\n",
              "      <td>12907.000000</td>\n",
              "      <td>12907.000000</td>\n",
              "      <td>12907.000000</td>\n",
              "    </tr>\n",
              "    <tr>\n",
              "      <th>mean</th>\n",
              "      <td>5982.283257</td>\n",
              "      <td>4885.541877</td>\n",
              "      <td>34.849423</td>\n",
              "      <td>90.984814</td>\n",
              "      <td>79.507632</td>\n",
              "      <td>32.307120</td>\n",
              "      <td>88.999923</td>\n",
              "    </tr>\n",
              "    <tr>\n",
              "      <th>std</th>\n",
              "      <td>20711.321892</td>\n",
              "      <td>18196.608534</td>\n",
              "      <td>21.273665</td>\n",
              "      <td>310.672540</td>\n",
              "      <td>22.745849</td>\n",
              "      <td>46.765793</td>\n",
              "      <td>22.066898</td>\n",
              "    </tr>\n",
              "    <tr>\n",
              "      <th>min</th>\n",
              "      <td>5.000000</td>\n",
              "      <td>5.000000</td>\n",
              "      <td>0.000000</td>\n",
              "      <td>0.000000</td>\n",
              "      <td>0.000000</td>\n",
              "      <td>0.000000</td>\n",
              "      <td>0.000000</td>\n",
              "    </tr>\n",
              "    <tr>\n",
              "      <th>25%</th>\n",
              "      <td>265.000000</td>\n",
              "      <td>153.000000</td>\n",
              "      <td>17.000000</td>\n",
              "      <td>2.000000</td>\n",
              "      <td>81.000000</td>\n",
              "      <td>0.000000</td>\n",
              "      <td>91.000000</td>\n",
              "    </tr>\n",
              "    <tr>\n",
              "      <th>50%</th>\n",
              "      <td>631.000000</td>\n",
              "      <td>356.000000</td>\n",
              "      <td>35.000000</td>\n",
              "      <td>13.000000</td>\n",
              "      <td>86.000000</td>\n",
              "      <td>0.000000</td>\n",
              "      <td>97.000000</td>\n",
              "    </tr>\n",
              "    <tr>\n",
              "      <th>75%</th>\n",
              "      <td>1679.500000</td>\n",
              "      <td>1063.000000</td>\n",
              "      <td>51.000000</td>\n",
              "      <td>61.000000</td>\n",
              "      <td>89.000000</td>\n",
              "      <td>100.000000</td>\n",
              "      <td>100.000000</td>\n",
              "    </tr>\n",
              "    <tr>\n",
              "      <th>max</th>\n",
              "      <td>479900.000000</td>\n",
              "      <td>479900.000000</td>\n",
              "      <td>98.000000</td>\n",
              "      <td>11914.000000</td>\n",
              "      <td>100.000000</td>\n",
              "      <td>100.000000</td>\n",
              "      <td>100.000000</td>\n",
              "    </tr>\n",
              "  </tbody>\n",
              "</table>\n",
              "</div>\n",
              "    <div class=\"colab-df-buttons\">\n",
              "\n",
              "  <div class=\"colab-df-container\">\n",
              "    <button class=\"colab-df-convert\" onclick=\"convertToInteractive('df-a94ee466-b4e4-42e2-9c72-6dbfbe845a68')\"\n",
              "            title=\"Convert this dataframe to an interactive table.\"\n",
              "            style=\"display:none;\">\n",
              "\n",
              "  <svg xmlns=\"http://www.w3.org/2000/svg\" height=\"24px\" viewBox=\"0 -960 960 960\">\n",
              "    <path d=\"M120-120v-720h720v720H120Zm60-500h600v-160H180v160Zm220 220h160v-160H400v160Zm0 220h160v-160H400v160ZM180-400h160v-160H180v160Zm440 0h160v-160H620v160ZM180-180h160v-160H180v160Zm440 0h160v-160H620v160Z\"/>\n",
              "  </svg>\n",
              "    </button>\n",
              "\n",
              "  <style>\n",
              "    .colab-df-container {\n",
              "      display:flex;\n",
              "      gap: 12px;\n",
              "    }\n",
              "\n",
              "    .colab-df-convert {\n",
              "      background-color: #E8F0FE;\n",
              "      border: none;\n",
              "      border-radius: 50%;\n",
              "      cursor: pointer;\n",
              "      display: none;\n",
              "      fill: #1967D2;\n",
              "      height: 32px;\n",
              "      padding: 0 0 0 0;\n",
              "      width: 32px;\n",
              "    }\n",
              "\n",
              "    .colab-df-convert:hover {\n",
              "      background-color: #E2EBFA;\n",
              "      box-shadow: 0px 1px 2px rgba(60, 64, 67, 0.3), 0px 1px 3px 1px rgba(60, 64, 67, 0.15);\n",
              "      fill: #174EA6;\n",
              "    }\n",
              "\n",
              "    .colab-df-buttons div {\n",
              "      margin-bottom: 4px;\n",
              "    }\n",
              "\n",
              "    [theme=dark] .colab-df-convert {\n",
              "      background-color: #3B4455;\n",
              "      fill: #D2E3FC;\n",
              "    }\n",
              "\n",
              "    [theme=dark] .colab-df-convert:hover {\n",
              "      background-color: #434B5C;\n",
              "      box-shadow: 0px 1px 3px 1px rgba(0, 0, 0, 0.15);\n",
              "      filter: drop-shadow(0px 1px 2px rgba(0, 0, 0, 0.3));\n",
              "      fill: #FFFFFF;\n",
              "    }\n",
              "  </style>\n",
              "\n",
              "    <script>\n",
              "      const buttonEl =\n",
              "        document.querySelector('#df-a94ee466-b4e4-42e2-9c72-6dbfbe845a68 button.colab-df-convert');\n",
              "      buttonEl.style.display =\n",
              "        google.colab.kernel.accessAllowed ? 'block' : 'none';\n",
              "\n",
              "      async function convertToInteractive(key) {\n",
              "        const element = document.querySelector('#df-a94ee466-b4e4-42e2-9c72-6dbfbe845a68');\n",
              "        const dataTable =\n",
              "          await google.colab.kernel.invokeFunction('convertToInteractive',\n",
              "                                                    [key], {});\n",
              "        if (!dataTable) return;\n",
              "\n",
              "        const docLinkHtml = 'Like what you see? Visit the ' +\n",
              "          '<a target=\"_blank\" href=https://colab.research.google.com/notebooks/data_table.ipynb>data table notebook</a>'\n",
              "          + ' to learn more about interactive tables.';\n",
              "        element.innerHTML = '';\n",
              "        dataTable['output_type'] = 'display_data';\n",
              "        await google.colab.output.renderOutput(dataTable, element);\n",
              "        const docLink = document.createElement('div');\n",
              "        docLink.innerHTML = docLinkHtml;\n",
              "        element.appendChild(docLink);\n",
              "      }\n",
              "    </script>\n",
              "  </div>\n",
              "\n",
              "\n",
              "<div id=\"df-234726c0-9f19-4f54-9cd0-25347ab06caf\">\n",
              "  <button class=\"colab-df-quickchart\" onclick=\"quickchart('df-234726c0-9f19-4f54-9cd0-25347ab06caf')\"\n",
              "            title=\"Suggest charts\"\n",
              "            style=\"display:none;\">\n",
              "\n",
              "<svg xmlns=\"http://www.w3.org/2000/svg\" height=\"24px\"viewBox=\"0 0 24 24\"\n",
              "     width=\"24px\">\n",
              "    <g>\n",
              "        <path d=\"M19 3H5c-1.1 0-2 .9-2 2v14c0 1.1.9 2 2 2h14c1.1 0 2-.9 2-2V5c0-1.1-.9-2-2-2zM9 17H7v-7h2v7zm4 0h-2V7h2v10zm4 0h-2v-4h2v4z\"/>\n",
              "    </g>\n",
              "</svg>\n",
              "  </button>\n",
              "\n",
              "<style>\n",
              "  .colab-df-quickchart {\n",
              "      --bg-color: #E8F0FE;\n",
              "      --fill-color: #1967D2;\n",
              "      --hover-bg-color: #E2EBFA;\n",
              "      --hover-fill-color: #174EA6;\n",
              "      --disabled-fill-color: #AAA;\n",
              "      --disabled-bg-color: #DDD;\n",
              "  }\n",
              "\n",
              "  [theme=dark] .colab-df-quickchart {\n",
              "      --bg-color: #3B4455;\n",
              "      --fill-color: #D2E3FC;\n",
              "      --hover-bg-color: #434B5C;\n",
              "      --hover-fill-color: #FFFFFF;\n",
              "      --disabled-bg-color: #3B4455;\n",
              "      --disabled-fill-color: #666;\n",
              "  }\n",
              "\n",
              "  .colab-df-quickchart {\n",
              "    background-color: var(--bg-color);\n",
              "    border: none;\n",
              "    border-radius: 50%;\n",
              "    cursor: pointer;\n",
              "    display: none;\n",
              "    fill: var(--fill-color);\n",
              "    height: 32px;\n",
              "    padding: 0;\n",
              "    width: 32px;\n",
              "  }\n",
              "\n",
              "  .colab-df-quickchart:hover {\n",
              "    background-color: var(--hover-bg-color);\n",
              "    box-shadow: 0 1px 2px rgba(60, 64, 67, 0.3), 0 1px 3px 1px rgba(60, 64, 67, 0.15);\n",
              "    fill: var(--button-hover-fill-color);\n",
              "  }\n",
              "\n",
              "  .colab-df-quickchart-complete:disabled,\n",
              "  .colab-df-quickchart-complete:disabled:hover {\n",
              "    background-color: var(--disabled-bg-color);\n",
              "    fill: var(--disabled-fill-color);\n",
              "    box-shadow: none;\n",
              "  }\n",
              "\n",
              "  .colab-df-spinner {\n",
              "    border: 2px solid var(--fill-color);\n",
              "    border-color: transparent;\n",
              "    border-bottom-color: var(--fill-color);\n",
              "    animation:\n",
              "      spin 1s steps(1) infinite;\n",
              "  }\n",
              "\n",
              "  @keyframes spin {\n",
              "    0% {\n",
              "      border-color: transparent;\n",
              "      border-bottom-color: var(--fill-color);\n",
              "      border-left-color: var(--fill-color);\n",
              "    }\n",
              "    20% {\n",
              "      border-color: transparent;\n",
              "      border-left-color: var(--fill-color);\n",
              "      border-top-color: var(--fill-color);\n",
              "    }\n",
              "    30% {\n",
              "      border-color: transparent;\n",
              "      border-left-color: var(--fill-color);\n",
              "      border-top-color: var(--fill-color);\n",
              "      border-right-color: var(--fill-color);\n",
              "    }\n",
              "    40% {\n",
              "      border-color: transparent;\n",
              "      border-right-color: var(--fill-color);\n",
              "      border-top-color: var(--fill-color);\n",
              "    }\n",
              "    60% {\n",
              "      border-color: transparent;\n",
              "      border-right-color: var(--fill-color);\n",
              "    }\n",
              "    80% {\n",
              "      border-color: transparent;\n",
              "      border-right-color: var(--fill-color);\n",
              "      border-bottom-color: var(--fill-color);\n",
              "    }\n",
              "    90% {\n",
              "      border-color: transparent;\n",
              "      border-bottom-color: var(--fill-color);\n",
              "    }\n",
              "  }\n",
              "</style>\n",
              "\n",
              "  <script>\n",
              "    async function quickchart(key) {\n",
              "      const quickchartButtonEl =\n",
              "        document.querySelector('#' + key + ' button');\n",
              "      quickchartButtonEl.disabled = true;  // To prevent multiple clicks.\n",
              "      quickchartButtonEl.classList.add('colab-df-spinner');\n",
              "      try {\n",
              "        const charts = await google.colab.kernel.invokeFunction(\n",
              "            'suggestCharts', [key], {});\n",
              "      } catch (error) {\n",
              "        console.error('Error during call to suggestCharts:', error);\n",
              "      }\n",
              "      quickchartButtonEl.classList.remove('colab-df-spinner');\n",
              "      quickchartButtonEl.classList.add('colab-df-quickchart-complete');\n",
              "    }\n",
              "    (() => {\n",
              "      let quickchartButtonEl =\n",
              "        document.querySelector('#df-234726c0-9f19-4f54-9cd0-25347ab06caf button');\n",
              "      quickchartButtonEl.style.display =\n",
              "        google.colab.kernel.accessAllowed ? 'block' : 'none';\n",
              "    })();\n",
              "  </script>\n",
              "</div>\n",
              "    </div>\n",
              "  </div>\n"
            ]
          },
          "metadata": {},
          "execution_count": 25
        }
      ]
    },
    {
      "cell_type": "code",
      "source": [
        "data_frame.drop(['Cash On Delivery'], inplace=True, axis=1)"
      ],
      "metadata": {
        "id": "skk7xLRW-BGy"
      },
      "execution_count": 26,
      "outputs": []
    },
    {
      "cell_type": "code",
      "source": [
        "data_frame.columns"
      ],
      "metadata": {
        "colab": {
          "base_uri": "https://localhost:8080/"
        },
        "id": "13NY_jSE-BKc",
        "outputId": "1aee596c-51e5-4189-a1d1-4e2fe2846329"
      },
      "execution_count": 27,
      "outputs": [
        {
          "output_type": "execute_result",
          "data": {
            "text/plain": [
              "Index(['Category', 'SubCategory', 'Title', 'Original Price', 'Discount Price',\n",
              "       'Discount', 'Seller Name', 'Number of Ratings',\n",
              "       'Positive Seller Ratings', 'Ship On Time', 'Chat Response Rate',\n",
              "       'Delivery Type', 'Flagship Store'],\n",
              "      dtype='object')"
            ]
          },
          "metadata": {},
          "execution_count": 27
        }
      ]
    },
    {
      "cell_type": "markdown",
      "source": [
        "## **If a seller sells 50 products on original price, then how many products with the discount price have to be sold to reach the amount equal to the break-even point?**\n",
        "### **Original Price X 50 products = Discount Price X No. of Products?**"
      ],
      "metadata": {
        "id": "I3Ji_6bhGXLK"
      }
    },
    {
      "cell_type": "code",
      "source": [
        "data_frame['No. of products to be sold'] = (data_frame['Original Price'] * 50.0) / data_frame['Discount Price']\n",
        "data_frame['No. of products to be sold'] = data_frame['No. of products to be sold'].apply(lambda x: round(x,2))"
      ],
      "metadata": {
        "id": "tAv6klC_-BQ8"
      },
      "execution_count": 28,
      "outputs": []
    },
    {
      "cell_type": "code",
      "source": [
        "data_frame['No. of products to be sold']"
      ],
      "metadata": {
        "colab": {
          "base_uri": "https://localhost:8080/"
        },
        "id": "Zi-yI-Dd-BUc",
        "outputId": "c5a2ceba-cc66-45ea-f703-0e0793930937"
      },
      "execution_count": 29,
      "outputs": [
        {
          "output_type": "execute_result",
          "data": {
            "text/plain": [
              "0        107.84\n",
              "1        113.79\n",
              "2         89.74\n",
              "3         80.11\n",
              "4         61.19\n",
              "          ...  \n",
              "12902     64.81\n",
              "12903     70.59\n",
              "12904     50.00\n",
              "12905    102.74\n",
              "12906    109.33\n",
              "Name: No. of products to be sold, Length: 12907, dtype: float64"
            ]
          },
          "metadata": {},
          "execution_count": 29
        }
      ]
    },
    {
      "cell_type": "markdown",
      "source": [
        "## **How much the seller have to increase the sell percentage to reach the break even point?**   "
      ],
      "metadata": {
        "id": "6OORoNrSH3aq"
      }
    },
    {
      "cell_type": "code",
      "source": [
        "data_frame['Sell percentage to increase'] = ((data_frame['No. of products to be sold'] - 50) / 50)*100\n",
        "data_frame['Sell percentage to increase'] = data_frame['Sell percentage to increase'].apply(lambda x: math.ceil(x))"
      ],
      "metadata": {
        "id": "c4LsCn66-BX8"
      },
      "execution_count": 30,
      "outputs": []
    },
    {
      "cell_type": "code",
      "source": [
        "data_frame['Sell percentage to increase']"
      ],
      "metadata": {
        "colab": {
          "base_uri": "https://localhost:8080/"
        },
        "id": "LO06T8K7-Bbs",
        "outputId": "57c582a6-e8b4-4c24-c499-22705eccc9b7"
      },
      "execution_count": 31,
      "outputs": [
        {
          "output_type": "execute_result",
          "data": {
            "text/plain": [
              "0        116\n",
              "1        128\n",
              "2         80\n",
              "3         61\n",
              "4         23\n",
              "        ... \n",
              "12902     30\n",
              "12903     42\n",
              "12904      0\n",
              "12905    106\n",
              "12906    119\n",
              "Name: Sell percentage to increase, Length: 12907, dtype: int64"
            ]
          },
          "metadata": {},
          "execution_count": 31
        }
      ]
    },
    {
      "cell_type": "code",
      "source": [
        "data_frame['Number of Ratings'].max()"
      ],
      "metadata": {
        "colab": {
          "base_uri": "https://localhost:8080/"
        },
        "id": "mNBiM_9I-Bfc",
        "outputId": "ad6e6f3f-6df1-4c6c-b6e9-3db3ca9c75f6"
      },
      "execution_count": 32,
      "outputs": [
        {
          "output_type": "execute_result",
          "data": {
            "text/plain": [
              "11914"
            ]
          },
          "metadata": {},
          "execution_count": 32
        }
      ]
    },
    {
      "cell_type": "code",
      "source": [
        "data_frame.to_csv(f'{base_path}Dataset/Top_Selling_Product_Data.csv', index=False)"
      ],
      "metadata": {
        "id": "uzTAzxXk-Bjk"
      },
      "execution_count": 34,
      "outputs": []
    },
    {
      "cell_type": "code",
      "source": [],
      "metadata": {
        "id": "i-4d7aAG-BnM"
      },
      "execution_count": null,
      "outputs": []
    },
    {
      "cell_type": "code",
      "source": [],
      "metadata": {
        "id": "gsnMTUm3-Bqr"
      },
      "execution_count": null,
      "outputs": []
    },
    {
      "cell_type": "code",
      "source": [],
      "metadata": {
        "id": "9HyyhMR9-Btb"
      },
      "execution_count": null,
      "outputs": []
    },
    {
      "cell_type": "code",
      "source": [],
      "metadata": {
        "id": "bd0ymICs-Bw7"
      },
      "execution_count": null,
      "outputs": []
    },
    {
      "cell_type": "code",
      "source": [],
      "metadata": {
        "id": "nWTtP0k5-B0k"
      },
      "execution_count": null,
      "outputs": []
    },
    {
      "cell_type": "code",
      "source": [],
      "metadata": {
        "id": "1JHkTQ-B-B3n"
      },
      "execution_count": null,
      "outputs": []
    },
    {
      "cell_type": "code",
      "source": [],
      "metadata": {
        "id": "9w7td3bb-B6u"
      },
      "execution_count": null,
      "outputs": []
    },
    {
      "cell_type": "code",
      "source": [],
      "metadata": {
        "id": "dSVKNZ9D-B9b"
      },
      "execution_count": null,
      "outputs": []
    }
  ]
}