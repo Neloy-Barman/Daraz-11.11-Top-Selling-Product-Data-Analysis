{
 "cells": [
  {
   "cell_type": "markdown",
   "id": "49f2d1a4",
   "metadata": {
    "id": "AeCL62x85i0e",
    "papermill": {
     "duration": 0.017544,
     "end_time": "2024-01-04T10:34:49.546094",
     "exception": false,
     "start_time": "2024-01-04T10:34:49.528550",
     "status": "completed"
    },
    "tags": []
   },
   "source": [
    "# **Necessary Imports**"
   ]
  },
  {
   "cell_type": "code",
   "execution_count": 1,
   "id": "13d70995",
   "metadata": {
    "execution": {
     "iopub.execute_input": "2024-01-04T10:34:49.581742Z",
     "iopub.status.busy": "2024-01-04T10:34:49.580468Z",
     "iopub.status.idle": "2024-01-04T10:34:51.590665Z",
     "shell.execute_reply": "2024-01-04T10:34:51.589645Z"
    },
    "executionInfo": {
     "elapsed": 522,
     "status": "ok",
     "timestamp": 1700756185632,
     "user": {
      "displayName": "Neloy Barman",
      "userId": "16190526520882354050"
     },
     "user_tz": -360
    },
    "id": "GL3xtm_Z5Gq8",
    "papermill": {
     "duration": 2.031657,
     "end_time": "2024-01-04T10:34:51.593937",
     "exception": false,
     "start_time": "2024-01-04T10:34:49.562280",
     "status": "completed"
    },
    "tags": []
   },
   "outputs": [],
   "source": [
    "import os\n",
    "import math\n",
    "import numpy as np\n",
    "import pandas as pd\n",
    "import seaborn as sns\n",
    "import matplotlib.pyplot as plt\n",
    "%matplotlib inline"
   ]
  },
  {
   "cell_type": "markdown",
   "id": "69d63a97",
   "metadata": {
    "id": "oGxo6VuV59Yk",
    "papermill": {
     "duration": 0.016327,
     "end_time": "2024-01-04T10:34:51.632477",
     "exception": false,
     "start_time": "2024-01-04T10:34:51.616150",
     "status": "completed"
    },
    "tags": []
   },
   "source": [
    "# **Mounting Drive**"
   ]
  },
  {
   "cell_type": "code",
   "execution_count": 2,
   "id": "3e0669e3",
   "metadata": {
    "execution": {
     "iopub.execute_input": "2024-01-04T10:34:51.668154Z",
     "iopub.status.busy": "2024-01-04T10:34:51.667434Z",
     "iopub.status.idle": "2024-01-04T10:34:51.673440Z",
     "shell.execute_reply": "2024-01-04T10:34:51.672217Z"
    },
    "executionInfo": {
     "elapsed": 3384,
     "status": "ok",
     "timestamp": 1700756189479,
     "user": {
      "displayName": "Neloy Barman",
      "userId": "16190526520882354050"
     },
     "user_tz": -360
    },
    "id": "PbLhMi6B5nMV",
    "outputId": "cd75e8ca-cabd-4e75-a2ee-88bedef0dc57",
    "papermill": {
     "duration": 0.026794,
     "end_time": "2024-01-04T10:34:51.675986",
     "exception": false,
     "start_time": "2024-01-04T10:34:51.649192",
     "status": "completed"
    },
    "tags": []
   },
   "outputs": [],
   "source": [
    "# from google.colab import drive\n",
    "# drive.mount('/gdrive')"
   ]
  },
  {
   "cell_type": "markdown",
   "id": "977c29ed",
   "metadata": {
    "id": "corXWJh795Ta",
    "papermill": {
     "duration": 0.016789,
     "end_time": "2024-01-04T10:34:51.709601",
     "exception": false,
     "start_time": "2024-01-04T10:34:51.692812",
     "status": "completed"
    },
    "tags": []
   },
   "source": [
    "# **Fetching CSV Files**"
   ]
  },
  {
   "cell_type": "code",
   "execution_count": 3,
   "id": "3fa5f3d5",
   "metadata": {
    "execution": {
     "iopub.execute_input": "2024-01-04T10:34:51.743856Z",
     "iopub.status.busy": "2024-01-04T10:34:51.743246Z",
     "iopub.status.idle": "2024-01-04T10:34:51.748526Z",
     "shell.execute_reply": "2024-01-04T10:34:51.747677Z"
    },
    "executionInfo": {
     "elapsed": 5,
     "status": "ok",
     "timestamp": 1700756189479,
     "user": {
      "displayName": "Neloy Barman",
      "userId": "16190526520882354050"
     },
     "user_tz": -360
    },
    "id": "xrel3J618Jhr",
    "papermill": {
     "duration": 0.025334,
     "end_time": "2024-01-04T10:34:51.751034",
     "exception": false,
     "start_time": "2024-01-04T10:34:51.725700",
     "status": "completed"
    },
    "tags": []
   },
   "outputs": [],
   "source": [
    "base_path = \"/kaggle/input/daraz-11-11-top-selling-product-data/categorical_data\""
   ]
  },
  {
   "cell_type": "code",
   "execution_count": 4,
   "id": "e608f5b4",
   "metadata": {
    "execution": {
     "iopub.execute_input": "2024-01-04T10:34:51.785742Z",
     "iopub.status.busy": "2024-01-04T10:34:51.784928Z",
     "iopub.status.idle": "2024-01-04T10:34:51.797584Z",
     "shell.execute_reply": "2024-01-04T10:34:51.796431Z"
    },
    "executionInfo": {
     "elapsed": 5,
     "status": "ok",
     "timestamp": 1700756189479,
     "user": {
      "displayName": "Neloy Barman",
      "userId": "16190526520882354050"
     },
     "user_tz": -360
    },
    "id": "x6S4mYFf5nPc",
    "outputId": "c9a868ed-a16c-4a5b-fa7a-0578034db20f",
    "papermill": {
     "duration": 0.03303,
     "end_time": "2024-01-04T10:34:51.800088",
     "exception": false,
     "start_time": "2024-01-04T10:34:51.767058",
     "status": "completed"
    },
    "tags": []
   },
   "outputs": [
    {
     "name": "stdout",
     "output_type": "stream",
     "text": [
      "Aavailable Files: ['electronic_accessories.csv', 'mother_baby.csv', 'automotive_motorbike.csv', 'men_boys_fashion.csv', 'sports_fitness.csv', 'tv_home_appliances.csv', 'health_beauty.csv', 'electronic_devices.csv', 'home_lifestyle.csv', 'watches_bags_jewellery.csv', 'groceries.csv', 'women_girls_fashion.csv']\n"
     ]
    }
   ],
   "source": [
    "csv_files = os.listdir(base_path)\n",
    "print(f\"Aavailable Files: {csv_files}\")"
   ]
  },
  {
   "cell_type": "markdown",
   "id": "5760b85d",
   "metadata": {
    "id": "Y3CZR4w6-e-S",
    "papermill": {
     "duration": 0.016044,
     "end_time": "2024-01-04T10:34:51.833529",
     "exception": false,
     "start_time": "2024-01-04T10:34:51.817485",
     "status": "completed"
    },
    "tags": []
   },
   "source": [
    "# **Preparing the Product Data Frame**"
   ]
  },
  {
   "cell_type": "code",
   "execution_count": 5,
   "id": "a29c2057",
   "metadata": {
    "execution": {
     "iopub.execute_input": "2024-01-04T10:34:51.869184Z",
     "iopub.status.busy": "2024-01-04T10:34:51.868070Z",
     "iopub.status.idle": "2024-01-04T10:34:51.877485Z",
     "shell.execute_reply": "2024-01-04T10:34:51.876186Z"
    },
    "executionInfo": {
     "elapsed": 4,
     "status": "ok",
     "timestamp": 1700756189480,
     "user": {
      "displayName": "Neloy Barman",
      "userId": "16190526520882354050"
     },
     "user_tz": -360
    },
    "id": "P0z7mYWU-nWr",
    "papermill": {
     "duration": 0.030553,
     "end_time": "2024-01-04T10:34:51.880459",
     "exception": false,
     "start_time": "2024-01-04T10:34:51.849906",
     "status": "completed"
    },
    "tags": []
   },
   "outputs": [],
   "source": [
    "data_frame = pd.DataFrame()"
   ]
  },
  {
   "cell_type": "code",
   "execution_count": 6,
   "id": "855de902",
   "metadata": {
    "execution": {
     "iopub.execute_input": "2024-01-04T10:34:51.916419Z",
     "iopub.status.busy": "2024-01-04T10:34:51.915890Z",
     "iopub.status.idle": "2024-01-04T10:34:52.179102Z",
     "shell.execute_reply": "2024-01-04T10:34:52.177843Z"
    },
    "executionInfo": {
     "elapsed": 4,
     "status": "ok",
     "timestamp": 1700756189480,
     "user": {
      "displayName": "Neloy Barman",
      "userId": "16190526520882354050"
     },
     "user_tz": -360
    },
    "id": "UKyWpnyU5nSc",
    "papermill": {
     "duration": 0.284073,
     "end_time": "2024-01-04T10:34:52.181869",
     "exception": false,
     "start_time": "2024-01-04T10:34:51.897796",
     "status": "completed"
    },
    "tags": []
   },
   "outputs": [],
   "source": [
    "for file in csv_files:\n",
    "  file_path = f\"{base_path}/{file}\"\n",
    "  df = pd.read_csv(f\"{file_path}\")\n",
    "  data_frame = pd.concat([data_frame, df], ignore_index=True)"
   ]
  },
  {
   "cell_type": "markdown",
   "id": "347acd4d",
   "metadata": {
    "id": "yrRlQfAWAmVZ",
    "papermill": {
     "duration": 0.016775,
     "end_time": "2024-01-04T10:34:52.215262",
     "exception": false,
     "start_time": "2024-01-04T10:34:52.198487",
     "status": "completed"
    },
    "tags": []
   },
   "source": [
    "# **Viewing the DataFrame**"
   ]
  },
  {
   "cell_type": "code",
   "execution_count": 7,
   "id": "c21fcd38",
   "metadata": {
    "execution": {
     "iopub.execute_input": "2024-01-04T10:34:52.318095Z",
     "iopub.status.busy": "2024-01-04T10:34:52.317315Z",
     "iopub.status.idle": "2024-01-04T10:34:52.341980Z",
     "shell.execute_reply": "2024-01-04T10:34:52.340723Z"
    },
    "executionInfo": {
     "elapsed": 868,
     "status": "ok",
     "timestamp": 1700756190344,
     "user": {
      "displayName": "Neloy Barman",
      "userId": "16190526520882354050"
     },
     "user_tz": -360
    },
    "id": "fJY4gjJf5nVk",
    "outputId": "d53e18ec-2a94-4070-ff6c-aa26e7862104",
    "papermill": {
     "duration": 0.045307,
     "end_time": "2024-01-04T10:34:52.344524",
     "exception": false,
     "start_time": "2024-01-04T10:34:52.299217",
     "status": "completed"
    },
    "tags": []
   },
   "outputs": [
    {
     "data": {
      "text/html": [
       "<div>\n",
       "<style scoped>\n",
       "    .dataframe tbody tr th:only-of-type {\n",
       "        vertical-align: middle;\n",
       "    }\n",
       "\n",
       "    .dataframe tbody tr th {\n",
       "        vertical-align: top;\n",
       "    }\n",
       "\n",
       "    .dataframe thead th {\n",
       "        text-align: right;\n",
       "    }\n",
       "</style>\n",
       "<table border=\"1\" class=\"dataframe\">\n",
       "  <thead>\n",
       "    <tr style=\"text-align: right;\">\n",
       "      <th></th>\n",
       "      <th>Category</th>\n",
       "      <th>SubCategory</th>\n",
       "      <th>Title</th>\n",
       "      <th>Original Price</th>\n",
       "      <th>Discount Price</th>\n",
       "      <th>Discount</th>\n",
       "      <th>Seller Name</th>\n",
       "      <th>Number of Ratings</th>\n",
       "      <th>Positive Seller Ratings</th>\n",
       "      <th>Ship On Time</th>\n",
       "      <th>Chat Response Rate</th>\n",
       "      <th>Delivery Type</th>\n",
       "      <th>Cash On Delivery</th>\n",
       "      <th>Flagship Store</th>\n",
       "    </tr>\n",
       "  </thead>\n",
       "  <tbody>\n",
       "    <tr>\n",
       "      <th>0</th>\n",
       "      <td>Electronic Accessories</td>\n",
       "      <td>https://www.daraz.com.bd/audio/</td>\n",
       "      <td>QKZ DM10 Zinc Alloy HiFi Earphone In Ear Earphone</td>\n",
       "      <td>625</td>\n",
       "      <td>299</td>\n",
       "      <td>52.0</td>\n",
       "      <td>Time Square</td>\n",
       "      <td>4208</td>\n",
       "      <td>85</td>\n",
       "      <td>0</td>\n",
       "      <td>79</td>\n",
       "      <td>Standard Delivery</td>\n",
       "      <td>Cash on Delivery Available</td>\n",
       "      <td>Yes</td>\n",
       "    </tr>\n",
       "    <tr>\n",
       "      <th>1</th>\n",
       "      <td>Electronic Accessories</td>\n",
       "      <td>https://www.daraz.com.bd/audio/</td>\n",
       "      <td>Uiisii HM 12 Super Bass Stereo In-Ear Earphone...</td>\n",
       "      <td>520</td>\n",
       "      <td>229</td>\n",
       "      <td>56.0</td>\n",
       "      <td>Subaita Dreamland</td>\n",
       "      <td>579</td>\n",
       "      <td>82</td>\n",
       "      <td>0</td>\n",
       "      <td>98</td>\n",
       "      <td>Free Delivery</td>\n",
       "      <td>Cash on Delivery Available</td>\n",
       "      <td>No</td>\n",
       "    </tr>\n",
       "    <tr>\n",
       "      <th>2</th>\n",
       "      <td>Electronic Accessories</td>\n",
       "      <td>https://www.daraz.com.bd/audio/</td>\n",
       "      <td>Uiisii C100 Super Bass Stereo In Ear Headphone...</td>\n",
       "      <td>424</td>\n",
       "      <td>199</td>\n",
       "      <td>53.0</td>\n",
       "      <td>Time Square</td>\n",
       "      <td>2714</td>\n",
       "      <td>85</td>\n",
       "      <td>0</td>\n",
       "      <td>79</td>\n",
       "      <td>Standard Delivery</td>\n",
       "      <td>Cash on Delivery Available</td>\n",
       "      <td>Yes</td>\n",
       "    </tr>\n",
       "    <tr>\n",
       "      <th>3</th>\n",
       "      <td>Electronic Accessories</td>\n",
       "      <td>https://www.daraz.com.bd/audio/</td>\n",
       "      <td>Orignal Creative High Bass Audio Earphone with...</td>\n",
       "      <td>299</td>\n",
       "      <td>125</td>\n",
       "      <td>58.0</td>\n",
       "      <td>Rimjhim Shop</td>\n",
       "      <td>627</td>\n",
       "      <td>81</td>\n",
       "      <td>0</td>\n",
       "      <td>92</td>\n",
       "      <td>Free Delivery</td>\n",
       "      <td>Cash on Delivery Available</td>\n",
       "      <td>No</td>\n",
       "    </tr>\n",
       "    <tr>\n",
       "      <th>4</th>\n",
       "      <td>Electronic Accessories</td>\n",
       "      <td>https://www.daraz.com.bd/audio/</td>\n",
       "      <td>Vivo In Year Yearphone is the best sound quali...</td>\n",
       "      <td>270</td>\n",
       "      <td>99</td>\n",
       "      <td>63.0</td>\n",
       "      <td>Prima Store</td>\n",
       "      <td>374</td>\n",
       "      <td>84</td>\n",
       "      <td>0</td>\n",
       "      <td>96</td>\n",
       "      <td>Free Delivery</td>\n",
       "      <td>Cash on Delivery Available</td>\n",
       "      <td>No</td>\n",
       "    </tr>\n",
       "  </tbody>\n",
       "</table>\n",
       "</div>"
      ],
      "text/plain": [
       "                 Category                      SubCategory  \\\n",
       "0  Electronic Accessories  https://www.daraz.com.bd/audio/   \n",
       "1  Electronic Accessories  https://www.daraz.com.bd/audio/   \n",
       "2  Electronic Accessories  https://www.daraz.com.bd/audio/   \n",
       "3  Electronic Accessories  https://www.daraz.com.bd/audio/   \n",
       "4  Electronic Accessories  https://www.daraz.com.bd/audio/   \n",
       "\n",
       "                                               Title  Original Price  \\\n",
       "0  QKZ DM10 Zinc Alloy HiFi Earphone In Ear Earphone             625   \n",
       "1  Uiisii HM 12 Super Bass Stereo In-Ear Earphone...             520   \n",
       "2  Uiisii C100 Super Bass Stereo In Ear Headphone...             424   \n",
       "3  Orignal Creative High Bass Audio Earphone with...             299   \n",
       "4  Vivo In Year Yearphone is the best sound quali...             270   \n",
       "\n",
       "   Discount Price  Discount        Seller Name  Number of Ratings  \\\n",
       "0             299      52.0        Time Square               4208   \n",
       "1             229      56.0  Subaita Dreamland                579   \n",
       "2             199      53.0        Time Square               2714   \n",
       "3             125      58.0       Rimjhim Shop                627   \n",
       "4              99      63.0        Prima Store                374   \n",
       "\n",
       "   Positive Seller Ratings  Ship On Time  Chat Response Rate  \\\n",
       "0                       85             0                  79   \n",
       "1                       82             0                  98   \n",
       "2                       85             0                  79   \n",
       "3                       81             0                  92   \n",
       "4                       84             0                  96   \n",
       "\n",
       "       Delivery Type            Cash On Delivery Flagship Store  \n",
       "0  Standard Delivery  Cash on Delivery Available            Yes  \n",
       "1      Free Delivery  Cash on Delivery Available             No  \n",
       "2  Standard Delivery  Cash on Delivery Available            Yes  \n",
       "3      Free Delivery  Cash on Delivery Available             No  \n",
       "4      Free Delivery  Cash on Delivery Available             No  "
      ]
     },
     "execution_count": 7,
     "metadata": {},
     "output_type": "execute_result"
    }
   ],
   "source": [
    "data_frame.head()"
   ]
  },
  {
   "cell_type": "markdown",
   "id": "6947cc6b",
   "metadata": {
    "id": "jUz2De3nA1LJ",
    "papermill": {
     "duration": 0.016476,
     "end_time": "2024-01-04T10:34:52.377755",
     "exception": false,
     "start_time": "2024-01-04T10:34:52.361279",
     "status": "completed"
    },
    "tags": []
   },
   "source": [
    "# **Viewing DataFrame Shape**"
   ]
  },
  {
   "cell_type": "code",
   "execution_count": 8,
   "id": "0279e429",
   "metadata": {
    "execution": {
     "iopub.execute_input": "2024-01-04T10:34:52.414760Z",
     "iopub.status.busy": "2024-01-04T10:34:52.414083Z",
     "iopub.status.idle": "2024-01-04T10:34:52.420775Z",
     "shell.execute_reply": "2024-01-04T10:34:52.419316Z"
    },
    "executionInfo": {
     "elapsed": 7,
     "status": "ok",
     "timestamp": 1700756190345,
     "user": {
      "displayName": "Neloy Barman",
      "userId": "16190526520882354050"
     },
     "user_tz": -360
    },
    "id": "lhbH6K-X5nYs",
    "outputId": "ef455f88-2df4-4dcf-b67d-c73c88447a11",
    "papermill": {
     "duration": 0.027816,
     "end_time": "2024-01-04T10:34:52.423079",
     "exception": false,
     "start_time": "2024-01-04T10:34:52.395263",
     "status": "completed"
    },
    "tags": []
   },
   "outputs": [
    {
     "name": "stdout",
     "output_type": "stream",
     "text": [
      "Number of Rows: 13747\n",
      "Number of Columns: 14\n"
     ]
    }
   ],
   "source": [
    "print(f\"Number of Rows: {data_frame.shape[0]}\")\n",
    "print(f\"Number of Columns: {data_frame.shape[1]}\")"
   ]
  },
  {
   "cell_type": "markdown",
   "id": "e242427a",
   "metadata": {
    "id": "GNkoQtggBwtR",
    "papermill": {
     "duration": 0.018556,
     "end_time": "2024-01-04T10:34:52.458710",
     "exception": false,
     "start_time": "2024-01-04T10:34:52.440154",
     "status": "completed"
    },
    "tags": []
   },
   "source": [
    "## **Checking the Columns**"
   ]
  },
  {
   "cell_type": "code",
   "execution_count": 9,
   "id": "7cc151b5",
   "metadata": {
    "execution": {
     "iopub.execute_input": "2024-01-04T10:34:52.497457Z",
     "iopub.status.busy": "2024-01-04T10:34:52.496171Z",
     "iopub.status.idle": "2024-01-04T10:34:52.503216Z",
     "shell.execute_reply": "2024-01-04T10:34:52.501884Z"
    },
    "executionInfo": {
     "elapsed": 5,
     "status": "ok",
     "timestamp": 1700756190345,
     "user": {
      "displayName": "Neloy Barman",
      "userId": "16190526520882354050"
     },
     "user_tz": -360
    },
    "id": "pL8Qn4yyBz1A",
    "outputId": "b9628397-1347-43dc-dcb6-ec98d5f9482a",
    "papermill": {
     "duration": 0.029027,
     "end_time": "2024-01-04T10:34:52.505875",
     "exception": false,
     "start_time": "2024-01-04T10:34:52.476848",
     "status": "completed"
    },
    "tags": []
   },
   "outputs": [
    {
     "name": "stdout",
     "output_type": "stream",
     "text": [
      "Available Columns: ['Category', 'SubCategory', 'Title', 'Original Price', 'Discount Price', 'Discount', 'Seller Name', 'Number of Ratings', 'Positive Seller Ratings', 'Ship On Time', 'Chat Response Rate', 'Delivery Type', 'Cash On Delivery', 'Flagship Store']\n"
     ]
    }
   ],
   "source": [
    "columns = list(data_frame.columns)\n",
    "print(f\"Available Columns: {columns}\")"
   ]
  },
  {
   "cell_type": "markdown",
   "id": "f017a09e",
   "metadata": {
    "id": "mZQiZDIgQCMo",
    "papermill": {
     "duration": 0.016862,
     "end_time": "2024-01-04T10:34:52.540387",
     "exception": false,
     "start_time": "2024-01-04T10:34:52.523525",
     "status": "completed"
    },
    "tags": []
   },
   "source": [
    "## **Changing column value from Link to Name**"
   ]
  },
  {
   "cell_type": "markdown",
   "id": "011ad1d1",
   "metadata": {
    "id": "T1yiFgnXQnPv",
    "papermill": {
     "duration": 0.016621,
     "end_time": "2024-01-04T10:34:52.574048",
     "exception": false,
     "start_time": "2024-01-04T10:34:52.557427",
     "status": "completed"
    },
    "tags": []
   },
   "source": [
    "### **A DataFrame containing the Sub-Category Link and related Name**"
   ]
  },
  {
   "cell_type": "code",
   "execution_count": 10,
   "id": "51b7e160",
   "metadata": {
    "execution": {
     "iopub.execute_input": "2024-01-04T10:34:52.609453Z",
     "iopub.status.busy": "2024-01-04T10:34:52.609050Z",
     "iopub.status.idle": "2024-01-04T10:34:52.703430Z",
     "shell.execute_reply": "2024-01-04T10:34:52.702114Z"
    },
    "executionInfo": {
     "elapsed": 4,
     "status": "ok",
     "timestamp": 1700756190345,
     "user": {
      "displayName": "Neloy Barman",
      "userId": "16190526520882354050"
     },
     "user_tz": -360
    },
    "id": "doTNODx0QL1f",
    "papermill": {
     "duration": 0.1154,
     "end_time": "2024-01-04T10:34:52.706200",
     "exception": false,
     "start_time": "2024-01-04T10:34:52.590800",
     "status": "completed"
    },
    "tags": []
   },
   "outputs": [],
   "source": [
    "sub_categories = pd.read_csv(\"/kaggle/input/daraz-11-11-top-selling-product-data/subcategories.csv\")"
   ]
  },
  {
   "cell_type": "markdown",
   "id": "055da50c",
   "metadata": {
    "id": "e-Ej-px0Q15Q",
    "papermill": {
     "duration": 0.016571,
     "end_time": "2024-01-04T10:34:52.739940",
     "exception": false,
     "start_time": "2024-01-04T10:34:52.723369",
     "status": "completed"
    },
    "tags": []
   },
   "source": [
    "### **Viewing Sub-Category**"
   ]
  },
  {
   "cell_type": "code",
   "execution_count": 11,
   "id": "9d534d71",
   "metadata": {
    "execution": {
     "iopub.execute_input": "2024-01-04T10:34:52.778349Z",
     "iopub.status.busy": "2024-01-04T10:34:52.777053Z",
     "iopub.status.idle": "2024-01-04T10:34:52.789048Z",
     "shell.execute_reply": "2024-01-04T10:34:52.788241Z"
    },
    "executionInfo": {
     "elapsed": 4,
     "status": "ok",
     "timestamp": 1700756190345,
     "user": {
      "displayName": "Neloy Barman",
      "userId": "16190526520882354050"
     },
     "user_tz": -360
    },
    "id": "Jaht_rHSQQwI",
    "outputId": "2aa504c6-3531-48c2-94e9-bc074fa0b557",
    "papermill": {
     "duration": 0.033237,
     "end_time": "2024-01-04T10:34:52.791195",
     "exception": false,
     "start_time": "2024-01-04T10:34:52.757958",
     "status": "completed"
    },
    "tags": []
   },
   "outputs": [
    {
     "data": {
      "text/html": [
       "<div>\n",
       "<style scoped>\n",
       "    .dataframe tbody tr th:only-of-type {\n",
       "        vertical-align: middle;\n",
       "    }\n",
       "\n",
       "    .dataframe tbody tr th {\n",
       "        vertical-align: top;\n",
       "    }\n",
       "\n",
       "    .dataframe thead th {\n",
       "        text-align: right;\n",
       "    }\n",
       "</style>\n",
       "<table border=\"1\" class=\"dataframe\">\n",
       "  <thead>\n",
       "    <tr style=\"text-align: right;\">\n",
       "      <th></th>\n",
       "      <th>Category</th>\n",
       "      <th>SubCategory Name</th>\n",
       "      <th>SubCategory Link</th>\n",
       "    </tr>\n",
       "  </thead>\n",
       "  <tbody>\n",
       "    <tr>\n",
       "      <th>0</th>\n",
       "      <td>Women's &amp; Girls' Fashion</td>\n",
       "      <td>Traditional Clothing</td>\n",
       "      <td>https://www.daraz.com.bd/womens-traditional-cl...</td>\n",
       "    </tr>\n",
       "    <tr>\n",
       "      <th>1</th>\n",
       "      <td>Women's &amp; Girls' Fashion</td>\n",
       "      <td>Muslim Wear</td>\n",
       "      <td>https://www.daraz.com.bd/womens-abayas-and-hij...</td>\n",
       "    </tr>\n",
       "    <tr>\n",
       "      <th>2</th>\n",
       "      <td>Women's &amp; Girls' Fashion</td>\n",
       "      <td>Clothing</td>\n",
       "      <td>https://www.daraz.com.bd/womens-clothing/?serv...</td>\n",
       "    </tr>\n",
       "    <tr>\n",
       "      <th>3</th>\n",
       "      <td>Women's &amp; Girls' Fashion</td>\n",
       "      <td>Lingerie, Sleep &amp; Lounge</td>\n",
       "      <td>https://www.daraz.com.bd/womens-lingerie-sleep...</td>\n",
       "    </tr>\n",
       "    <tr>\n",
       "      <th>4</th>\n",
       "      <td>Women's &amp; Girls' Fashion</td>\n",
       "      <td>Shoes</td>\n",
       "      <td>https://www.daraz.com.bd/womens-shoes/?price=5...</td>\n",
       "    </tr>\n",
       "  </tbody>\n",
       "</table>\n",
       "</div>"
      ],
      "text/plain": [
       "                   Category          SubCategory Name  \\\n",
       "0  Women's & Girls' Fashion      Traditional Clothing   \n",
       "1  Women's & Girls' Fashion               Muslim Wear   \n",
       "2  Women's & Girls' Fashion                  Clothing   \n",
       "3  Women's & Girls' Fashion  Lingerie, Sleep & Lounge   \n",
       "4  Women's & Girls' Fashion                     Shoes   \n",
       "\n",
       "                                    SubCategory Link  \n",
       "0  https://www.daraz.com.bd/womens-traditional-cl...  \n",
       "1  https://www.daraz.com.bd/womens-abayas-and-hij...  \n",
       "2  https://www.daraz.com.bd/womens-clothing/?serv...  \n",
       "3  https://www.daraz.com.bd/womens-lingerie-sleep...  \n",
       "4  https://www.daraz.com.bd/womens-shoes/?price=5...  "
      ]
     },
     "execution_count": 11,
     "metadata": {},
     "output_type": "execute_result"
    }
   ],
   "source": [
    "sub_categories.head()"
   ]
  },
  {
   "cell_type": "markdown",
   "id": "60d13f37",
   "metadata": {
    "id": "1TGz5DTpQ7gA",
    "papermill": {
     "duration": 0.01705,
     "end_time": "2024-01-04T10:34:52.825468",
     "exception": false,
     "start_time": "2024-01-04T10:34:52.808418",
     "status": "completed"
    },
    "tags": []
   },
   "source": [
    "### **Implementing Change**"
   ]
  },
  {
   "cell_type": "code",
   "execution_count": 12,
   "id": "dabaa615",
   "metadata": {
    "execution": {
     "iopub.execute_input": "2024-01-04T10:34:52.862434Z",
     "iopub.status.busy": "2024-01-04T10:34:52.861998Z",
     "iopub.status.idle": "2024-01-04T10:36:47.797656Z",
     "shell.execute_reply": "2024-01-04T10:36:47.796241Z"
    },
    "executionInfo": {
     "elapsed": 119527,
     "status": "ok",
     "timestamp": 1700756309869,
     "user": {
      "displayName": "Neloy Barman",
      "userId": "16190526520882354050"
     },
     "user_tz": -360
    },
    "id": "wZcDR6lPQQzH",
    "papermill": {
     "duration": 114.957766,
     "end_time": "2024-01-04T10:36:47.800852",
     "exception": false,
     "start_time": "2024-01-04T10:34:52.843086",
     "status": "completed"
    },
    "tags": []
   },
   "outputs": [],
   "source": [
    "for i in range(len(data_frame)):\n",
    "  changed = 0\n",
    "  j = 0\n",
    "  while j < len(sub_categories) and changed != 1:\n",
    "    if data_frame.iloc[i][\"SubCategory\"] == sub_categories.iloc[j][\"SubCategory Link\"]:\n",
    "      data_frame.at[i,'SubCategory'] = sub_categories.iloc[j][\"SubCategory Name\"]\n",
    "      changed = 1\n",
    "    j += 1"
   ]
  },
  {
   "cell_type": "markdown",
   "id": "d09a203a",
   "metadata": {
    "id": "lK4GQ16dRElY",
    "papermill": {
     "duration": 0.01694,
     "end_time": "2024-01-04T10:36:47.836133",
     "exception": false,
     "start_time": "2024-01-04T10:36:47.819193",
     "status": "completed"
    },
    "tags": []
   },
   "source": [
    "### **Viewing Change**"
   ]
  },
  {
   "cell_type": "code",
   "execution_count": 13,
   "id": "bbbf5ca1",
   "metadata": {
    "execution": {
     "iopub.execute_input": "2024-01-04T10:36:47.872513Z",
     "iopub.status.busy": "2024-01-04T10:36:47.872056Z",
     "iopub.status.idle": "2024-01-04T10:36:47.881486Z",
     "shell.execute_reply": "2024-01-04T10:36:47.880664Z"
    },
    "executionInfo": {
     "elapsed": 14,
     "status": "ok",
     "timestamp": 1700756309870,
     "user": {
      "displayName": "Neloy Barman",
      "userId": "16190526520882354050"
     },
     "user_tz": -360
    },
    "id": "-x1cfjdLQQ13",
    "outputId": "53d4caff-9db2-4d6b-9391-13e434271410",
    "papermill": {
     "duration": 0.030929,
     "end_time": "2024-01-04T10:36:47.884205",
     "exception": false,
     "start_time": "2024-01-04T10:36:47.853276",
     "status": "completed"
    },
    "tags": []
   },
   "outputs": [
    {
     "data": {
      "text/plain": [
       "0                                                  Audio\n",
       "1                                                  Audio\n",
       "2                                                  Audio\n",
       "3                                                  Audio\n",
       "4                                                  Audio\n",
       "                              ...                       \n",
       "13742    Branded Ladies/Girl's Watches Collection Online\n",
       "13743    Branded Ladies/Girl's Watches Collection Online\n",
       "13744    Branded Ladies/Girl's Watches Collection Online\n",
       "13745    Branded Ladies/Girl's Watches Collection Online\n",
       "13746    Branded Ladies/Girl's Watches Collection Online\n",
       "Name: SubCategory, Length: 13747, dtype: object"
      ]
     },
     "execution_count": 13,
     "metadata": {},
     "output_type": "execute_result"
    }
   ],
   "source": [
    "data_frame[\"SubCategory\"]"
   ]
  },
  {
   "cell_type": "markdown",
   "id": "b1f9d8aa",
   "metadata": {
    "id": "EPygw4jjCPtR",
    "papermill": {
     "duration": 0.018138,
     "end_time": "2024-01-04T10:36:47.920663",
     "exception": false,
     "start_time": "2024-01-04T10:36:47.902525",
     "status": "completed"
    },
    "tags": []
   },
   "source": [
    "## **Checking the datatype of the columns**"
   ]
  },
  {
   "cell_type": "code",
   "execution_count": 14,
   "id": "e27f2ecd",
   "metadata": {
    "execution": {
     "iopub.execute_input": "2024-01-04T10:36:47.957963Z",
     "iopub.status.busy": "2024-01-04T10:36:47.957524Z",
     "iopub.status.idle": "2024-01-04T10:36:47.965641Z",
     "shell.execute_reply": "2024-01-04T10:36:47.964842Z"
    },
    "executionInfo": {
     "elapsed": 4,
     "status": "ok",
     "timestamp": 1700756309870,
     "user": {
      "displayName": "Neloy Barman",
      "userId": "16190526520882354050"
     },
     "user_tz": -360
    },
    "id": "lbageLrsCUDR",
    "outputId": "eaba67f7-6b96-45cd-952c-18e7799c3e79",
    "papermill": {
     "duration": 0.029509,
     "end_time": "2024-01-04T10:36:47.967741",
     "exception": false,
     "start_time": "2024-01-04T10:36:47.938232",
     "status": "completed"
    },
    "tags": []
   },
   "outputs": [
    {
     "data": {
      "text/plain": [
       "Category                    object\n",
       "SubCategory                 object\n",
       "Title                       object\n",
       "Original Price               int64\n",
       "Discount Price               int64\n",
       "Discount                   float64\n",
       "Seller Name                 object\n",
       "Number of Ratings            int64\n",
       "Positive Seller Ratings      int64\n",
       "Ship On Time                 int64\n",
       "Chat Response Rate           int64\n",
       "Delivery Type               object\n",
       "Cash On Delivery            object\n",
       "Flagship Store              object\n",
       "dtype: object"
      ]
     },
     "execution_count": 14,
     "metadata": {},
     "output_type": "execute_result"
    }
   ],
   "source": [
    "data_frame.dtypes"
   ]
  },
  {
   "cell_type": "markdown",
   "id": "112a0000",
   "metadata": {
    "id": "TgUSKtDQBHzx",
    "papermill": {
     "duration": 0.018766,
     "end_time": "2024-01-04T10:36:48.005366",
     "exception": false,
     "start_time": "2024-01-04T10:36:47.986600",
     "status": "completed"
    },
    "tags": []
   },
   "source": [
    "## **Checking NaN values**"
   ]
  },
  {
   "cell_type": "code",
   "execution_count": 15,
   "id": "bb92a0e6",
   "metadata": {
    "execution": {
     "iopub.execute_input": "2024-01-04T10:36:48.043882Z",
     "iopub.status.busy": "2024-01-04T10:36:48.043468Z",
     "iopub.status.idle": "2024-01-04T10:36:48.065202Z",
     "shell.execute_reply": "2024-01-04T10:36:48.064017Z"
    },
    "executionInfo": {
     "elapsed": 3,
     "status": "ok",
     "timestamp": 1700756309870,
     "user": {
      "displayName": "Neloy Barman",
      "userId": "16190526520882354050"
     },
     "user_tz": -360
    },
    "id": "5neoP5se5ncU",
    "outputId": "5defbb37-caf0-4980-b02c-1ef3a0e411b9",
    "papermill": {
     "duration": 0.04351,
     "end_time": "2024-01-04T10:36:48.067580",
     "exception": false,
     "start_time": "2024-01-04T10:36:48.024070",
     "status": "completed"
    },
    "tags": []
   },
   "outputs": [
    {
     "data": {
      "text/plain": [
       "Category                   0\n",
       "SubCategory                0\n",
       "Title                      0\n",
       "Original Price             0\n",
       "Discount Price             0\n",
       "Discount                   0\n",
       "Seller Name                0\n",
       "Number of Ratings          0\n",
       "Positive Seller Ratings    0\n",
       "Ship On Time               0\n",
       "Chat Response Rate         0\n",
       "Delivery Type              0\n",
       "Cash On Delivery           0\n",
       "Flagship Store             0\n",
       "dtype: int64"
      ]
     },
     "execution_count": 15,
     "metadata": {},
     "output_type": "execute_result"
    }
   ],
   "source": [
    "data_frame.isna().sum()"
   ]
  },
  {
   "cell_type": "markdown",
   "id": "02145b8b",
   "metadata": {
    "id": "Wmq35OcoBcwh",
    "papermill": {
     "duration": 0.017635,
     "end_time": "2024-01-04T10:36:48.103063",
     "exception": false,
     "start_time": "2024-01-04T10:36:48.085428",
     "status": "completed"
    },
    "tags": []
   },
   "source": [
    "### **We have not any NaN value in any of the column.**"
   ]
  },
  {
   "cell_type": "markdown",
   "id": "a13682b0",
   "metadata": {
    "id": "kyfU5bYBL5o9",
    "papermill": {
     "duration": 0.017837,
     "end_time": "2024-01-04T10:36:48.140210",
     "exception": false,
     "start_time": "2024-01-04T10:36:48.122373",
     "status": "completed"
    },
    "tags": []
   },
   "source": [
    "## **Handling redundant symbols from Object type columns**"
   ]
  },
  {
   "cell_type": "code",
   "execution_count": 16,
   "id": "39b6b2cb",
   "metadata": {
    "execution": {
     "iopub.execute_input": "2024-01-04T10:36:48.179833Z",
     "iopub.status.busy": "2024-01-04T10:36:48.179108Z",
     "iopub.status.idle": "2024-01-04T10:37:00.249000Z",
     "shell.execute_reply": "2024-01-04T10:37:00.247803Z"
    },
    "executionInfo": {
     "elapsed": 12647,
     "status": "ok",
     "timestamp": 1700756322515,
     "user": {
      "displayName": "Neloy Barman",
      "userId": "16190526520882354050"
     },
     "user_tz": -360
    },
    "id": "W90JudIPALYC",
    "papermill": {
     "duration": 12.092323,
     "end_time": "2024-01-04T10:37:00.252042",
     "exception": false,
     "start_time": "2024-01-04T10:36:48.159719",
     "status": "completed"
    },
    "tags": []
   },
   "outputs": [],
   "source": [
    "str_columns = []\n",
    "for column in columns:\n",
    "  if str(data_frame[column].dtype) == 'object':\n",
    "    str_columns.append(column)\n",
    "    for i in range(len(data_frame)):\n",
    "      data_frame.at[i, column] = data_frame.iloc[i][column].strip().replace('\"',\"\")"
   ]
  },
  {
   "cell_type": "markdown",
   "id": "1f4dd0b4",
   "metadata": {
    "id": "jFxBbyfpMFX_",
    "papermill": {
     "duration": 0.017746,
     "end_time": "2024-01-04T10:37:00.288305",
     "exception": false,
     "start_time": "2024-01-04T10:37:00.270559",
     "status": "completed"
    },
    "tags": []
   },
   "source": [
    "## **Viewing Change**"
   ]
  },
  {
   "cell_type": "code",
   "execution_count": 17,
   "id": "7ef773ac",
   "metadata": {
    "execution": {
     "iopub.execute_input": "2024-01-04T10:37:00.327615Z",
     "iopub.status.busy": "2024-01-04T10:37:00.326959Z",
     "iopub.status.idle": "2024-01-04T10:37:00.347244Z",
     "shell.execute_reply": "2024-01-04T10:37:00.345811Z"
    },
    "executionInfo": {
     "elapsed": 25,
     "status": "ok",
     "timestamp": 1700756322515,
     "user": {
      "displayName": "Neloy Barman",
      "userId": "16190526520882354050"
     },
     "user_tz": -360
    },
    "id": "ONEsACFZLYNF",
    "outputId": "72b26b5c-f4ea-4624-fd35-a320f51ef3b5",
    "papermill": {
     "duration": 0.04297,
     "end_time": "2024-01-04T10:37:00.349935",
     "exception": false,
     "start_time": "2024-01-04T10:37:00.306965",
     "status": "completed"
    },
    "tags": []
   },
   "outputs": [
    {
     "data": {
      "text/html": [
       "<div>\n",
       "<style scoped>\n",
       "    .dataframe tbody tr th:only-of-type {\n",
       "        vertical-align: middle;\n",
       "    }\n",
       "\n",
       "    .dataframe tbody tr th {\n",
       "        vertical-align: top;\n",
       "    }\n",
       "\n",
       "    .dataframe thead th {\n",
       "        text-align: right;\n",
       "    }\n",
       "</style>\n",
       "<table border=\"1\" class=\"dataframe\">\n",
       "  <thead>\n",
       "    <tr style=\"text-align: right;\">\n",
       "      <th></th>\n",
       "      <th>Category</th>\n",
       "      <th>SubCategory</th>\n",
       "      <th>Title</th>\n",
       "      <th>Seller Name</th>\n",
       "      <th>Delivery Type</th>\n",
       "      <th>Cash On Delivery</th>\n",
       "      <th>Flagship Store</th>\n",
       "    </tr>\n",
       "  </thead>\n",
       "  <tbody>\n",
       "    <tr>\n",
       "      <th>0</th>\n",
       "      <td>Electronic Accessories</td>\n",
       "      <td>Audio</td>\n",
       "      <td>QKZ DM10 Zinc Alloy HiFi Earphone In Ear Earphone</td>\n",
       "      <td>Time Square</td>\n",
       "      <td>Standard Delivery</td>\n",
       "      <td>Cash on Delivery Available</td>\n",
       "      <td>Yes</td>\n",
       "    </tr>\n",
       "    <tr>\n",
       "      <th>1</th>\n",
       "      <td>Electronic Accessories</td>\n",
       "      <td>Audio</td>\n",
       "      <td>Uiisii HM 12 Super Bass Stereo In-Ear Earphone...</td>\n",
       "      <td>Subaita Dreamland</td>\n",
       "      <td>Free Delivery</td>\n",
       "      <td>Cash on Delivery Available</td>\n",
       "      <td>No</td>\n",
       "    </tr>\n",
       "    <tr>\n",
       "      <th>2</th>\n",
       "      <td>Electronic Accessories</td>\n",
       "      <td>Audio</td>\n",
       "      <td>Uiisii C100 Super Bass Stereo In Ear Headphone...</td>\n",
       "      <td>Time Square</td>\n",
       "      <td>Standard Delivery</td>\n",
       "      <td>Cash on Delivery Available</td>\n",
       "      <td>Yes</td>\n",
       "    </tr>\n",
       "    <tr>\n",
       "      <th>3</th>\n",
       "      <td>Electronic Accessories</td>\n",
       "      <td>Audio</td>\n",
       "      <td>Orignal Creative High Bass Audio Earphone with...</td>\n",
       "      <td>Rimjhim Shop</td>\n",
       "      <td>Free Delivery</td>\n",
       "      <td>Cash on Delivery Available</td>\n",
       "      <td>No</td>\n",
       "    </tr>\n",
       "    <tr>\n",
       "      <th>4</th>\n",
       "      <td>Electronic Accessories</td>\n",
       "      <td>Audio</td>\n",
       "      <td>Vivo In Year Yearphone is the best sound quali...</td>\n",
       "      <td>Prima Store</td>\n",
       "      <td>Free Delivery</td>\n",
       "      <td>Cash on Delivery Available</td>\n",
       "      <td>No</td>\n",
       "    </tr>\n",
       "    <tr>\n",
       "      <th>...</th>\n",
       "      <td>...</td>\n",
       "      <td>...</td>\n",
       "      <td>...</td>\n",
       "      <td>...</td>\n",
       "      <td>...</td>\n",
       "      <td>...</td>\n",
       "      <td>...</td>\n",
       "    </tr>\n",
       "    <tr>\n",
       "      <th>13742</th>\n",
       "      <td>Women's &amp; Girls' Fashion</td>\n",
       "      <td>Branded Ladies/Girl's Watches Collection Online</td>\n",
       "      <td>SKMEI Fashion Ladies Casual Elegant Alloy Wate...</td>\n",
       "      <td>SKMEI Flagship Store</td>\n",
       "      <td>Free Delivery</td>\n",
       "      <td>Cash on Delivery Available</td>\n",
       "      <td>No</td>\n",
       "    </tr>\n",
       "    <tr>\n",
       "      <th>13743</th>\n",
       "      <td>Women's &amp; Girls' Fashion</td>\n",
       "      <td>Branded Ladies/Girl's Watches Collection Online</td>\n",
       "      <td>SKMEI 9264 Trend Light Luxury Women's Quartz W...</td>\n",
       "      <td>M M Rahman Gallery</td>\n",
       "      <td>Free Delivery</td>\n",
       "      <td>Cash on Delivery Available</td>\n",
       "      <td>Yes</td>\n",
       "    </tr>\n",
       "    <tr>\n",
       "      <th>13744</th>\n",
       "      <td>Women's &amp; Girls' Fashion</td>\n",
       "      <td>Branded Ladies/Girl's Watches Collection Online</td>\n",
       "      <td>Carat Round Dial Quartz Watch Exquisite Durabl...</td>\n",
       "      <td>Carat</td>\n",
       "      <td>Free Delivery</td>\n",
       "      <td>Cash on Delivery Available</td>\n",
       "      <td>No</td>\n",
       "    </tr>\n",
       "    <tr>\n",
       "      <th>13745</th>\n",
       "      <td>Women's &amp; Girls' Fashion</td>\n",
       "      <td>Branded Ladies/Girl's Watches Collection Online</td>\n",
       "      <td>LIEBIG Women Watches Casual Fashion Date Stain...</td>\n",
       "      <td>LIEBIG</td>\n",
       "      <td>Free Delivery</td>\n",
       "      <td>Cash on Delivery Available</td>\n",
       "      <td>No</td>\n",
       "    </tr>\n",
       "    <tr>\n",
       "      <th>13746</th>\n",
       "      <td>Women's &amp; Girls' Fashion</td>\n",
       "      <td>Branded Ladies/Girl's Watches Collection Online</td>\n",
       "      <td>Olevs 5872 Black Stainless Steel Analoge Wrist...</td>\n",
       "      <td>Zam-Zam Fashion World</td>\n",
       "      <td>Free Delivery</td>\n",
       "      <td>Cash on Delivery Available</td>\n",
       "      <td>Yes</td>\n",
       "    </tr>\n",
       "  </tbody>\n",
       "</table>\n",
       "<p>13747 rows × 7 columns</p>\n",
       "</div>"
      ],
      "text/plain": [
       "                       Category  \\\n",
       "0        Electronic Accessories   \n",
       "1        Electronic Accessories   \n",
       "2        Electronic Accessories   \n",
       "3        Electronic Accessories   \n",
       "4        Electronic Accessories   \n",
       "...                         ...   \n",
       "13742  Women's & Girls' Fashion   \n",
       "13743  Women's & Girls' Fashion   \n",
       "13744  Women's & Girls' Fashion   \n",
       "13745  Women's & Girls' Fashion   \n",
       "13746  Women's & Girls' Fashion   \n",
       "\n",
       "                                           SubCategory  \\\n",
       "0                                                Audio   \n",
       "1                                                Audio   \n",
       "2                                                Audio   \n",
       "3                                                Audio   \n",
       "4                                                Audio   \n",
       "...                                                ...   \n",
       "13742  Branded Ladies/Girl's Watches Collection Online   \n",
       "13743  Branded Ladies/Girl's Watches Collection Online   \n",
       "13744  Branded Ladies/Girl's Watches Collection Online   \n",
       "13745  Branded Ladies/Girl's Watches Collection Online   \n",
       "13746  Branded Ladies/Girl's Watches Collection Online   \n",
       "\n",
       "                                                   Title  \\\n",
       "0      QKZ DM10 Zinc Alloy HiFi Earphone In Ear Earphone   \n",
       "1      Uiisii HM 12 Super Bass Stereo In-Ear Earphone...   \n",
       "2      Uiisii C100 Super Bass Stereo In Ear Headphone...   \n",
       "3      Orignal Creative High Bass Audio Earphone with...   \n",
       "4      Vivo In Year Yearphone is the best sound quali...   \n",
       "...                                                  ...   \n",
       "13742  SKMEI Fashion Ladies Casual Elegant Alloy Wate...   \n",
       "13743  SKMEI 9264 Trend Light Luxury Women's Quartz W...   \n",
       "13744  Carat Round Dial Quartz Watch Exquisite Durabl...   \n",
       "13745  LIEBIG Women Watches Casual Fashion Date Stain...   \n",
       "13746  Olevs 5872 Black Stainless Steel Analoge Wrist...   \n",
       "\n",
       "                 Seller Name      Delivery Type            Cash On Delivery  \\\n",
       "0                Time Square  Standard Delivery  Cash on Delivery Available   \n",
       "1          Subaita Dreamland      Free Delivery  Cash on Delivery Available   \n",
       "2                Time Square  Standard Delivery  Cash on Delivery Available   \n",
       "3               Rimjhim Shop      Free Delivery  Cash on Delivery Available   \n",
       "4                Prima Store      Free Delivery  Cash on Delivery Available   \n",
       "...                      ...                ...                         ...   \n",
       "13742   SKMEI Flagship Store      Free Delivery  Cash on Delivery Available   \n",
       "13743     M M Rahman Gallery      Free Delivery  Cash on Delivery Available   \n",
       "13744                  Carat      Free Delivery  Cash on Delivery Available   \n",
       "13745                 LIEBIG      Free Delivery  Cash on Delivery Available   \n",
       "13746  Zam-Zam Fashion World      Free Delivery  Cash on Delivery Available   \n",
       "\n",
       "      Flagship Store  \n",
       "0                Yes  \n",
       "1                 No  \n",
       "2                Yes  \n",
       "3                 No  \n",
       "4                 No  \n",
       "...              ...  \n",
       "13742             No  \n",
       "13743            Yes  \n",
       "13744             No  \n",
       "13745             No  \n",
       "13746            Yes  \n",
       "\n",
       "[13747 rows x 7 columns]"
      ]
     },
     "execution_count": 17,
     "metadata": {},
     "output_type": "execute_result"
    }
   ],
   "source": [
    "data_frame[str_columns]"
   ]
  },
  {
   "cell_type": "code",
   "execution_count": 18,
   "id": "83e9c629",
   "metadata": {
    "execution": {
     "iopub.execute_input": "2024-01-04T10:37:00.389332Z",
     "iopub.status.busy": "2024-01-04T10:37:00.388714Z",
     "iopub.status.idle": "2024-01-04T10:37:00.400763Z",
     "shell.execute_reply": "2024-01-04T10:37:00.399490Z"
    },
    "executionInfo": {
     "elapsed": 16,
     "status": "ok",
     "timestamp": 1700756322516,
     "user": {
      "displayName": "Neloy Barman",
      "userId": "16190526520882354050"
     },
     "user_tz": -360
    },
    "id": "-g6xPCqNMNi-",
    "outputId": "28d8a92a-0107-4201-a842-b4e3ecab7c54",
    "papermill": {
     "duration": 0.03501,
     "end_time": "2024-01-04T10:37:00.403430",
     "exception": false,
     "start_time": "2024-01-04T10:37:00.368420",
     "status": "completed"
    },
    "tags": []
   },
   "outputs": [
    {
     "data": {
      "text/plain": [
       "11"
      ]
     },
     "execution_count": 18,
     "metadata": {},
     "output_type": "execute_result"
    }
   ],
   "source": [
    "data_frame['Category'].nunique()"
   ]
  },
  {
   "cell_type": "code",
   "execution_count": 19,
   "id": "b4db750d",
   "metadata": {
    "execution": {
     "iopub.execute_input": "2024-01-04T10:37:00.443708Z",
     "iopub.status.busy": "2024-01-04T10:37:00.443034Z",
     "iopub.status.idle": "2024-01-04T10:37:00.452185Z",
     "shell.execute_reply": "2024-01-04T10:37:00.451070Z"
    },
    "executionInfo": {
     "elapsed": 14,
     "status": "ok",
     "timestamp": 1700756322516,
     "user": {
      "displayName": "Neloy Barman",
      "userId": "16190526520882354050"
     },
     "user_tz": -360
    },
    "id": "5EqhjQhYMpUF",
    "outputId": "090eb17f-75d5-420f-9e83-debeafb069eb",
    "papermill": {
     "duration": 0.032471,
     "end_time": "2024-01-04T10:37:00.454962",
     "exception": false,
     "start_time": "2024-01-04T10:37:00.422491",
     "status": "completed"
    },
    "tags": []
   },
   "outputs": [
    {
     "data": {
      "text/plain": [
       "7"
      ]
     },
     "execution_count": 19,
     "metadata": {},
     "output_type": "execute_result"
    }
   ],
   "source": [
    "data_frame['Cash On Delivery'].nunique()"
   ]
  },
  {
   "cell_type": "code",
   "execution_count": 20,
   "id": "95055d52",
   "metadata": {
    "execution": {
     "iopub.execute_input": "2024-01-04T10:37:00.497592Z",
     "iopub.status.busy": "2024-01-04T10:37:00.497075Z",
     "iopub.status.idle": "2024-01-04T10:37:00.505606Z",
     "shell.execute_reply": "2024-01-04T10:37:00.504388Z"
    },
    "executionInfo": {
     "elapsed": 13,
     "status": "ok",
     "timestamp": 1700756322516,
     "user": {
      "displayName": "Neloy Barman",
      "userId": "16190526520882354050"
     },
     "user_tz": -360
    },
    "id": "nb1ps2h7M7n1",
    "outputId": "d8b30ae5-de44-44b2-b99c-998fac0d03f4",
    "papermill": {
     "duration": 0.0324,
     "end_time": "2024-01-04T10:37:00.508144",
     "exception": false,
     "start_time": "2024-01-04T10:37:00.475744",
     "status": "completed"
    },
    "tags": []
   },
   "outputs": [
    {
     "data": {
      "text/plain": [
       "2"
      ]
     },
     "execution_count": 20,
     "metadata": {},
     "output_type": "execute_result"
    }
   ],
   "source": [
    "data_frame['Delivery Type'].nunique()"
   ]
  },
  {
   "cell_type": "code",
   "execution_count": 21,
   "id": "3373cf28",
   "metadata": {
    "execution": {
     "iopub.execute_input": "2024-01-04T10:37:00.549758Z",
     "iopub.status.busy": "2024-01-04T10:37:00.549051Z",
     "iopub.status.idle": "2024-01-04T10:37:00.562935Z",
     "shell.execute_reply": "2024-01-04T10:37:00.561741Z"
    },
    "executionInfo": {
     "elapsed": 12,
     "status": "ok",
     "timestamp": 1700756322516,
     "user": {
      "displayName": "Neloy Barman",
      "userId": "16190526520882354050"
     },
     "user_tz": -360
    },
    "id": "LGLD487PM--l",
    "outputId": "b9475ac6-f8be-4e4b-95d5-6180915f1c86",
    "papermill": {
     "duration": 0.03775,
     "end_time": "2024-01-04T10:37:00.565416",
     "exception": false,
     "start_time": "2024-01-04T10:37:00.527666",
     "status": "completed"
    },
    "tags": []
   },
   "outputs": [
    {
     "data": {
      "text/plain": [
       "Delivery Type\n",
       "Free Delivery        9191\n",
       "Standard Delivery    4556\n",
       "Name: count, dtype: int64"
      ]
     },
     "execution_count": 21,
     "metadata": {},
     "output_type": "execute_result"
    }
   ],
   "source": [
    "data_frame['Delivery Type'].value_counts()"
   ]
  },
  {
   "cell_type": "code",
   "execution_count": 22,
   "id": "5f9a7360",
   "metadata": {
    "execution": {
     "iopub.execute_input": "2024-01-04T10:37:00.607540Z",
     "iopub.status.busy": "2024-01-04T10:37:00.606866Z",
     "iopub.status.idle": "2024-01-04T10:37:00.618388Z",
     "shell.execute_reply": "2024-01-04T10:37:00.617427Z"
    },
    "executionInfo": {
     "elapsed": 10,
     "status": "ok",
     "timestamp": 1700756322516,
     "user": {
      "displayName": "Neloy Barman",
      "userId": "16190526520882354050"
     },
     "user_tz": -360
    },
    "id": "YQJTRV74Mvd9",
    "outputId": "0e22cf1e-b8a2-4de2-9c79-79a699f1c87f",
    "papermill": {
     "duration": 0.035536,
     "end_time": "2024-01-04T10:37:00.620922",
     "exception": false,
     "start_time": "2024-01-04T10:37:00.585386",
     "status": "completed"
    },
    "tags": []
   },
   "outputs": [
    {
     "data": {
      "text/plain": [
       "Cash On Delivery\n",
       "Cash on Delivery Available           13486\n",
       "100% Authentic from Trusted Brand      178\n",
       "This item is non-returnable             45\n",
       "14 days free & easy return              25\n",
       "7 Days Returns                           5\n",
       "Warranty not available                   5\n",
       "Daraz Verified                           3\n",
       "Name: count, dtype: int64"
      ]
     },
     "execution_count": 22,
     "metadata": {},
     "output_type": "execute_result"
    }
   ],
   "source": [
    "data_frame['Cash On Delivery'].value_counts()"
   ]
  },
  {
   "cell_type": "code",
   "execution_count": 23,
   "id": "8e5b679b",
   "metadata": {
    "execution": {
     "iopub.execute_input": "2024-01-04T10:37:00.663587Z",
     "iopub.status.busy": "2024-01-04T10:37:00.662928Z",
     "iopub.status.idle": "2024-01-04T10:37:00.700683Z",
     "shell.execute_reply": "2024-01-04T10:37:00.699860Z"
    },
    "executionInfo": {
     "elapsed": 9,
     "status": "ok",
     "timestamp": 1700756322516,
     "user": {
      "displayName": "Neloy Barman",
      "userId": "16190526520882354050"
     },
     "user_tz": -360
    },
    "id": "j3YDbOBO5nuU",
    "outputId": "15e3d9b6-32f6-40b6-ce3b-a7d4e59b2536",
    "papermill": {
     "duration": 0.061422,
     "end_time": "2024-01-04T10:37:00.703022",
     "exception": false,
     "start_time": "2024-01-04T10:37:00.641600",
     "status": "completed"
    },
    "tags": []
   },
   "outputs": [
    {
     "data": {
      "text/html": [
       "<div>\n",
       "<style scoped>\n",
       "    .dataframe tbody tr th:only-of-type {\n",
       "        vertical-align: middle;\n",
       "    }\n",
       "\n",
       "    .dataframe tbody tr th {\n",
       "        vertical-align: top;\n",
       "    }\n",
       "\n",
       "    .dataframe thead th {\n",
       "        text-align: right;\n",
       "    }\n",
       "</style>\n",
       "<table border=\"1\" class=\"dataframe\">\n",
       "  <thead>\n",
       "    <tr style=\"text-align: right;\">\n",
       "      <th></th>\n",
       "      <th>Original Price</th>\n",
       "      <th>Discount Price</th>\n",
       "      <th>Discount</th>\n",
       "      <th>Number of Ratings</th>\n",
       "      <th>Positive Seller Ratings</th>\n",
       "      <th>Ship On Time</th>\n",
       "      <th>Chat Response Rate</th>\n",
       "    </tr>\n",
       "  </thead>\n",
       "  <tbody>\n",
       "    <tr>\n",
       "      <th>count</th>\n",
       "      <td>13747.000000</td>\n",
       "      <td>13747.000000</td>\n",
       "      <td>13747.000000</td>\n",
       "      <td>13747.000000</td>\n",
       "      <td>13747.000000</td>\n",
       "      <td>13747.000000</td>\n",
       "      <td>13747.000000</td>\n",
       "    </tr>\n",
       "    <tr>\n",
       "      <th>mean</th>\n",
       "      <td>5726.778643</td>\n",
       "      <td>4651.739652</td>\n",
       "      <td>35.124689</td>\n",
       "      <td>88.626391</td>\n",
       "      <td>79.782134</td>\n",
       "      <td>32.806285</td>\n",
       "      <td>89.386339</td>\n",
       "    </tr>\n",
       "    <tr>\n",
       "      <th>std</th>\n",
       "      <td>20095.719351</td>\n",
       "      <td>17656.684912</td>\n",
       "      <td>21.131157</td>\n",
       "      <td>302.547150</td>\n",
       "      <td>22.431275</td>\n",
       "      <td>46.951572</td>\n",
       "      <td>21.608909</td>\n",
       "    </tr>\n",
       "    <tr>\n",
       "      <th>min</th>\n",
       "      <td>5.000000</td>\n",
       "      <td>5.000000</td>\n",
       "      <td>0.000000</td>\n",
       "      <td>0.000000</td>\n",
       "      <td>0.000000</td>\n",
       "      <td>0.000000</td>\n",
       "      <td>0.000000</td>\n",
       "    </tr>\n",
       "    <tr>\n",
       "      <th>25%</th>\n",
       "      <td>290.000000</td>\n",
       "      <td>163.500000</td>\n",
       "      <td>18.000000</td>\n",
       "      <td>2.000000</td>\n",
       "      <td>82.000000</td>\n",
       "      <td>0.000000</td>\n",
       "      <td>92.000000</td>\n",
       "    </tr>\n",
       "    <tr>\n",
       "      <th>50%</th>\n",
       "      <td>699.000000</td>\n",
       "      <td>389.000000</td>\n",
       "      <td>35.000000</td>\n",
       "      <td>12.000000</td>\n",
       "      <td>86.000000</td>\n",
       "      <td>0.000000</td>\n",
       "      <td>97.000000</td>\n",
       "    </tr>\n",
       "    <tr>\n",
       "      <th>75%</th>\n",
       "      <td>1799.500000</td>\n",
       "      <td>1117.000000</td>\n",
       "      <td>51.000000</td>\n",
       "      <td>60.000000</td>\n",
       "      <td>89.000000</td>\n",
       "      <td>100.000000</td>\n",
       "      <td>100.000000</td>\n",
       "    </tr>\n",
       "    <tr>\n",
       "      <th>max</th>\n",
       "      <td>479900.000000</td>\n",
       "      <td>479900.000000</td>\n",
       "      <td>98.000000</td>\n",
       "      <td>11914.000000</td>\n",
       "      <td>100.000000</td>\n",
       "      <td>100.000000</td>\n",
       "      <td>100.000000</td>\n",
       "    </tr>\n",
       "  </tbody>\n",
       "</table>\n",
       "</div>"
      ],
      "text/plain": [
       "       Original Price  Discount Price      Discount  Number of Ratings  \\\n",
       "count    13747.000000    13747.000000  13747.000000       13747.000000   \n",
       "mean      5726.778643     4651.739652     35.124689          88.626391   \n",
       "std      20095.719351    17656.684912     21.131157         302.547150   \n",
       "min          5.000000        5.000000      0.000000           0.000000   \n",
       "25%        290.000000      163.500000     18.000000           2.000000   \n",
       "50%        699.000000      389.000000     35.000000          12.000000   \n",
       "75%       1799.500000     1117.000000     51.000000          60.000000   \n",
       "max     479900.000000   479900.000000     98.000000       11914.000000   \n",
       "\n",
       "       Positive Seller Ratings  Ship On Time  Chat Response Rate  \n",
       "count             13747.000000  13747.000000        13747.000000  \n",
       "mean                 79.782134     32.806285           89.386339  \n",
       "std                  22.431275     46.951572           21.608909  \n",
       "min                   0.000000      0.000000            0.000000  \n",
       "25%                  82.000000      0.000000           92.000000  \n",
       "50%                  86.000000      0.000000           97.000000  \n",
       "75%                  89.000000    100.000000          100.000000  \n",
       "max                 100.000000    100.000000          100.000000  "
      ]
     },
     "execution_count": 23,
     "metadata": {},
     "output_type": "execute_result"
    }
   ],
   "source": [
    "data_frame.describe()"
   ]
  },
  {
   "cell_type": "markdown",
   "id": "e3bad9d8",
   "metadata": {
    "id": "5G445RI26gGE",
    "papermill": {
     "duration": 0.019767,
     "end_time": "2024-01-04T10:37:00.742878",
     "exception": false,
     "start_time": "2024-01-04T10:37:00.723111",
     "status": "completed"
    },
    "tags": []
   },
   "source": [
    "## **Dropping redundant column**"
   ]
  },
  {
   "cell_type": "code",
   "execution_count": 24,
   "id": "f8f4aac6",
   "metadata": {
    "execution": {
     "iopub.execute_input": "2024-01-04T10:37:00.785774Z",
     "iopub.status.busy": "2024-01-04T10:37:00.785039Z",
     "iopub.status.idle": "2024-01-04T10:37:00.792467Z",
     "shell.execute_reply": "2024-01-04T10:37:00.791544Z"
    },
    "executionInfo": {
     "elapsed": 8,
     "status": "ok",
     "timestamp": 1700756322516,
     "user": {
      "displayName": "Neloy Barman",
      "userId": "16190526520882354050"
     },
     "user_tz": -360
    },
    "id": "skk7xLRW-BGy",
    "papermill": {
     "duration": 0.031899,
     "end_time": "2024-01-04T10:37:00.794869",
     "exception": false,
     "start_time": "2024-01-04T10:37:00.762970",
     "status": "completed"
    },
    "tags": []
   },
   "outputs": [],
   "source": [
    "data_frame.drop(['Cash On Delivery'], inplace=True, axis=1)"
   ]
  },
  {
   "cell_type": "code",
   "execution_count": 25,
   "id": "cfd94742",
   "metadata": {
    "execution": {
     "iopub.execute_input": "2024-01-04T10:37:00.837403Z",
     "iopub.status.busy": "2024-01-04T10:37:00.836717Z",
     "iopub.status.idle": "2024-01-04T10:37:00.843601Z",
     "shell.execute_reply": "2024-01-04T10:37:00.842538Z"
    },
    "executionInfo": {
     "elapsed": 8,
     "status": "ok",
     "timestamp": 1700756322516,
     "user": {
      "displayName": "Neloy Barman",
      "userId": "16190526520882354050"
     },
     "user_tz": -360
    },
    "id": "13NY_jSE-BKc",
    "outputId": "4dcf89fa-e8b0-4116-a0b4-eee50abebdf2",
    "papermill": {
     "duration": 0.030833,
     "end_time": "2024-01-04T10:37:00.845898",
     "exception": false,
     "start_time": "2024-01-04T10:37:00.815065",
     "status": "completed"
    },
    "tags": []
   },
   "outputs": [
    {
     "data": {
      "text/plain": [
       "Index(['Category', 'SubCategory', 'Title', 'Original Price', 'Discount Price',\n",
       "       'Discount', 'Seller Name', 'Number of Ratings',\n",
       "       'Positive Seller Ratings', 'Ship On Time', 'Chat Response Rate',\n",
       "       'Delivery Type', 'Flagship Store'],\n",
       "      dtype='object')"
      ]
     },
     "execution_count": 25,
     "metadata": {},
     "output_type": "execute_result"
    }
   ],
   "source": [
    "data_frame.columns"
   ]
  },
  {
   "cell_type": "markdown",
   "id": "2857f9c5",
   "metadata": {
    "id": "I3Ji_6bhGXLK",
    "papermill": {
     "duration": 0.020039,
     "end_time": "2024-01-04T10:37:00.886272",
     "exception": false,
     "start_time": "2024-01-04T10:37:00.866233",
     "status": "completed"
    },
    "tags": []
   },
   "source": [
    "## **If a seller sells 50 products on original price, then how many products with the discount price have to be sold to reach the amount equal to the break-even point?**\n",
    "### **Original Price X 50 products = Discount Price X No. of Products?**"
   ]
  },
  {
   "cell_type": "code",
   "execution_count": 26,
   "id": "6bf1782b",
   "metadata": {
    "execution": {
     "iopub.execute_input": "2024-01-04T10:37:00.929407Z",
     "iopub.status.busy": "2024-01-04T10:37:00.928690Z",
     "iopub.status.idle": "2024-01-04T10:37:00.948298Z",
     "shell.execute_reply": "2024-01-04T10:37:00.947340Z"
    },
    "executionInfo": {
     "elapsed": 7,
     "status": "ok",
     "timestamp": 1700756322516,
     "user": {
      "displayName": "Neloy Barman",
      "userId": "16190526520882354050"
     },
     "user_tz": -360
    },
    "id": "tAv6klC_-BQ8",
    "papermill": {
     "duration": 0.044194,
     "end_time": "2024-01-04T10:37:00.950872",
     "exception": false,
     "start_time": "2024-01-04T10:37:00.906678",
     "status": "completed"
    },
    "tags": []
   },
   "outputs": [],
   "source": [
    "data_frame['No. of products to be sold'] = (data_frame['Original Price'] * 50.0) / data_frame['Discount Price']\n",
    "data_frame['No. of products to be sold'] = data_frame['No. of products to be sold'].apply(lambda x: math.ceil(x))"
   ]
  },
  {
   "cell_type": "code",
   "execution_count": 27,
   "id": "6bd6d74f",
   "metadata": {
    "execution": {
     "iopub.execute_input": "2024-01-04T10:37:00.994021Z",
     "iopub.status.busy": "2024-01-04T10:37:00.993317Z",
     "iopub.status.idle": "2024-01-04T10:37:01.002697Z",
     "shell.execute_reply": "2024-01-04T10:37:01.001486Z"
    },
    "executionInfo": {
     "elapsed": 7,
     "status": "ok",
     "timestamp": 1700756322516,
     "user": {
      "displayName": "Neloy Barman",
      "userId": "16190526520882354050"
     },
     "user_tz": -360
    },
    "id": "Zi-yI-Dd-BUc",
    "outputId": "50250607-6c78-48ca-9c48-723aa83cc09d",
    "papermill": {
     "duration": 0.034002,
     "end_time": "2024-01-04T10:37:01.005303",
     "exception": false,
     "start_time": "2024-01-04T10:37:00.971301",
     "status": "completed"
    },
    "tags": []
   },
   "outputs": [
    {
     "data": {
      "text/plain": [
       "0        105\n",
       "1        114\n",
       "2        107\n",
       "3        120\n",
       "4        137\n",
       "        ... \n",
       "13742     71\n",
       "13743    112\n",
       "13744     81\n",
       "13745    107\n",
       "13746     84\n",
       "Name: No. of products to be sold, Length: 13747, dtype: int64"
      ]
     },
     "execution_count": 27,
     "metadata": {},
     "output_type": "execute_result"
    }
   ],
   "source": [
    "data_frame['No. of products to be sold']"
   ]
  },
  {
   "cell_type": "markdown",
   "id": "17d0c621",
   "metadata": {
    "id": "6OORoNrSH3aq",
    "papermill": {
     "duration": 0.021025,
     "end_time": "2024-01-04T10:37:01.047880",
     "exception": false,
     "start_time": "2024-01-04T10:37:01.026855",
     "status": "completed"
    },
    "tags": []
   },
   "source": [
    "## **How much the seller have to increase the sell percentage to reach the break even point?**   "
   ]
  },
  {
   "cell_type": "code",
   "execution_count": 28,
   "id": "ee9f3dea",
   "metadata": {
    "execution": {
     "iopub.execute_input": "2024-01-04T10:37:01.092285Z",
     "iopub.status.busy": "2024-01-04T10:37:01.091861Z",
     "iopub.status.idle": "2024-01-04T10:37:01.116515Z",
     "shell.execute_reply": "2024-01-04T10:37:01.115323Z"
    },
    "executionInfo": {
     "elapsed": 969,
     "status": "ok",
     "timestamp": 1700756323479,
     "user": {
      "displayName": "Neloy Barman",
      "userId": "16190526520882354050"
     },
     "user_tz": -360
    },
    "id": "c4LsCn66-BX8",
    "papermill": {
     "duration": 0.050984,
     "end_time": "2024-01-04T10:37:01.119534",
     "exception": false,
     "start_time": "2024-01-04T10:37:01.068550",
     "status": "completed"
    },
    "tags": []
   },
   "outputs": [],
   "source": [
    "data_frame['Sell percentage to increase'] = ((data_frame['No. of products to be sold'] - 50) / 50)*100\n",
    "data_frame['Sell percentage to increase'] = data_frame['Sell percentage to increase'].apply(lambda x: round(x,2))"
   ]
  },
  {
   "cell_type": "code",
   "execution_count": 29,
   "id": "5f3525ff",
   "metadata": {
    "execution": {
     "iopub.execute_input": "2024-01-04T10:37:01.163881Z",
     "iopub.status.busy": "2024-01-04T10:37:01.163469Z",
     "iopub.status.idle": "2024-01-04T10:37:01.172973Z",
     "shell.execute_reply": "2024-01-04T10:37:01.171709Z"
    },
    "executionInfo": {
     "elapsed": 3,
     "status": "ok",
     "timestamp": 1700756323479,
     "user": {
      "displayName": "Neloy Barman",
      "userId": "16190526520882354050"
     },
     "user_tz": -360
    },
    "id": "LO06T8K7-Bbs",
    "outputId": "3f002dd1-fe92-4f68-b713-1318d3c1f9bf",
    "papermill": {
     "duration": 0.034645,
     "end_time": "2024-01-04T10:37:01.175746",
     "exception": false,
     "start_time": "2024-01-04T10:37:01.141101",
     "status": "completed"
    },
    "tags": []
   },
   "outputs": [
    {
     "data": {
      "text/plain": [
       "0        110.0\n",
       "1        128.0\n",
       "2        114.0\n",
       "3        140.0\n",
       "4        174.0\n",
       "         ...  \n",
       "13742     42.0\n",
       "13743    124.0\n",
       "13744     62.0\n",
       "13745    114.0\n",
       "13746     68.0\n",
       "Name: Sell percentage to increase, Length: 13747, dtype: float64"
      ]
     },
     "execution_count": 29,
     "metadata": {},
     "output_type": "execute_result"
    }
   ],
   "source": [
    "data_frame['Sell percentage to increase']"
   ]
  },
  {
   "cell_type": "markdown",
   "id": "b8b47ec3",
   "metadata": {
    "id": "HiwFveDA5XUd",
    "papermill": {
     "duration": 0.021087,
     "end_time": "2024-01-04T10:37:01.218500",
     "exception": false,
     "start_time": "2024-01-04T10:37:01.197413",
     "status": "completed"
    },
    "tags": []
   },
   "source": [
    "## **Importing the prepared dataset**"
   ]
  },
  {
   "cell_type": "code",
   "execution_count": 30,
   "id": "aa7e10b3",
   "metadata": {
    "execution": {
     "iopub.execute_input": "2024-01-04T10:37:01.262585Z",
     "iopub.status.busy": "2024-01-04T10:37:01.262200Z",
     "iopub.status.idle": "2024-01-04T10:37:01.462819Z",
     "shell.execute_reply": "2024-01-04T10:37:01.461603Z"
    },
    "executionInfo": {
     "elapsed": 2,
     "status": "ok",
     "timestamp": 1700756323479,
     "user": {
      "displayName": "Neloy Barman",
      "userId": "16190526520882354050"
     },
     "user_tz": -360
    },
    "id": "uzTAzxXk-Bjk",
    "papermill": {
     "duration": 0.226317,
     "end_time": "2024-01-04T10:37:01.465958",
     "exception": false,
     "start_time": "2024-01-04T10:37:01.239641",
     "status": "completed"
    },
    "tags": []
   },
   "outputs": [],
   "source": [
    "data_frame.to_csv(f'Top_Selling_Product_Data.csv', index=False)"
   ]
  }
 ],
 "metadata": {
  "colab": {
   "authorship_tag": "ABX9TyOw4hOQCpW+8BLUaZoauiHP",
   "provenance": []
  },
  "kaggle": {
   "accelerator": "none",
   "dataSources": [
    {
     "datasetId": 4210726,
     "sourceId": 7331027,
     "sourceType": "datasetVersion"
    }
   ],
   "dockerImageVersionId": 30626,
   "isGpuEnabled": false,
   "isInternetEnabled": true,
   "language": "python",
   "sourceType": "notebook"
  },
  "kernelspec": {
   "display_name": "Python 3",
   "language": "python",
   "name": "python3"
  },
  "language_info": {
   "codemirror_mode": {
    "name": "ipython",
    "version": 3
   },
   "file_extension": ".py",
   "mimetype": "text/x-python",
   "name": "python",
   "nbconvert_exporter": "python",
   "pygments_lexer": "ipython3",
   "version": "3.10.12"
  },
  "papermill": {
   "default_parameters": {},
   "duration": 136.278367,
   "end_time": "2024-01-04T10:37:02.211993",
   "environment_variables": {},
   "exception": null,
   "input_path": "__notebook__.ipynb",
   "output_path": "__notebook__.ipynb",
   "parameters": {},
   "start_time": "2024-01-04T10:34:45.933626",
   "version": "2.4.0"
  }
 },
 "nbformat": 4,
 "nbformat_minor": 5
}
